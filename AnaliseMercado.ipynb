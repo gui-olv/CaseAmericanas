{
 "cells": [
  {
   "cell_type": "markdown",
   "id": "d393fcdc",
   "metadata": {},
   "source": [
    "## Análise Exploratória Departamento Mercado"
   ]
  },
  {
   "cell_type": "code",
   "execution_count": 1,
   "id": "e8137804",
   "metadata": {},
   "outputs": [],
   "source": [
    "import pandas as pd \n",
    "import matplotlib\n",
    "import numpy as np\n",
    "import matplotlib.pyplot as plt\n",
    "import seaborn as sns\n",
    "from datetime import datetime\n",
    "from scipy import stats"
   ]
  },
  {
   "cell_type": "code",
   "execution_count": 2,
   "id": "af5dc5c7",
   "metadata": {},
   "outputs": [],
   "source": [
    "df = pd.read_csv('vendasMercado.csv')"
   ]
  },
  {
   "cell_type": "code",
   "execution_count": 3,
   "id": "8e81bd73",
   "metadata": {},
   "outputs": [
    {
     "name": "stdout",
     "output_type": "stream",
     "text": [
      "<class 'pandas.core.frame.DataFrame'>\n",
      "RangeIndex: 4007 entries, 0 to 4006\n",
      "Data columns (total 10 columns):\n",
      " #   Column              Non-Null Count  Dtype  \n",
      "---  ------              --------------  -----  \n",
      " 0   Canal               4007 non-null   object \n",
      " 1   Marca               4007 non-null   object \n",
      " 2   Origem Tráfego      4007 non-null   object \n",
      " 3   MDP                 4007 non-null   object \n",
      " 4   Parcelamento        4007 non-null   object \n",
      " 5   Receita             4007 non-null   float64\n",
      " 6   Pedidos             4007 non-null   float64\n",
      " 7   Mês/Ano             4007 non-null   object \n",
      " 8   Custo Parcelamento  4007 non-null   float64\n",
      " 9   Volume Venda        4007 non-null   float64\n",
      "dtypes: float64(4), object(6)\n",
      "memory usage: 313.2+ KB\n"
     ]
    }
   ],
   "source": [
    "df.info()"
   ]
  },
  {
   "cell_type": "code",
   "execution_count": 4,
   "id": "54e6ee37",
   "metadata": {},
   "outputs": [
    {
     "data": {
      "text/html": [
       "<div>\n",
       "<style scoped>\n",
       "    .dataframe tbody tr th:only-of-type {\n",
       "        vertical-align: middle;\n",
       "    }\n",
       "\n",
       "    .dataframe tbody tr th {\n",
       "        vertical-align: top;\n",
       "    }\n",
       "\n",
       "    .dataframe thead th {\n",
       "        text-align: right;\n",
       "    }\n",
       "</style>\n",
       "<table border=\"1\" class=\"dataframe\">\n",
       "  <thead>\n",
       "    <tr style=\"text-align: right;\">\n",
       "      <th></th>\n",
       "      <th>Canal</th>\n",
       "      <th>Marca</th>\n",
       "      <th>Origem Tráfego</th>\n",
       "      <th>MDP</th>\n",
       "      <th>Parcelamento</th>\n",
       "      <th>Receita</th>\n",
       "      <th>Pedidos</th>\n",
       "      <th>Mês/Ano</th>\n",
       "      <th>Custo Parcelamento</th>\n",
       "      <th>Volume Venda</th>\n",
       "    </tr>\n",
       "  </thead>\n",
       "  <tbody>\n",
       "    <tr>\n",
       "      <th>0</th>\n",
       "      <td>3P</td>\n",
       "      <td>ACOM</td>\n",
       "      <td>BUSCA PPC</td>\n",
       "      <td>AME</td>\n",
       "      <td>A VISTA</td>\n",
       "      <td>5.697485e+05</td>\n",
       "      <td>3983.256299</td>\n",
       "      <td>9/2020</td>\n",
       "      <td>0.0</td>\n",
       "      <td>2.269454e+09</td>\n",
       "    </tr>\n",
       "    <tr>\n",
       "      <th>1</th>\n",
       "      <td>1P</td>\n",
       "      <td>ACOM</td>\n",
       "      <td>TRAFEGO DIRETO</td>\n",
       "      <td>PIX</td>\n",
       "      <td>A VISTA</td>\n",
       "      <td>1.448811e+06</td>\n",
       "      <td>39880.373945</td>\n",
       "      <td>10/2021</td>\n",
       "      <td>0.0</td>\n",
       "      <td>5.777913e+10</td>\n",
       "    </tr>\n",
       "    <tr>\n",
       "      <th>2</th>\n",
       "      <td>3P</td>\n",
       "      <td>SUBA</td>\n",
       "      <td>TRAFEGO DIRETO</td>\n",
       "      <td>AME</td>\n",
       "      <td>A VISTA</td>\n",
       "      <td>8.944835e+04</td>\n",
       "      <td>669.073494</td>\n",
       "      <td>12/2020</td>\n",
       "      <td>0.0</td>\n",
       "      <td>5.984752e+07</td>\n",
       "    </tr>\n",
       "    <tr>\n",
       "      <th>3</th>\n",
       "      <td>3P</td>\n",
       "      <td>ACOM</td>\n",
       "      <td>TRAFEGO DIRETO</td>\n",
       "      <td>BOLETO</td>\n",
       "      <td>A VISTA</td>\n",
       "      <td>1.235274e+05</td>\n",
       "      <td>917.269307</td>\n",
       "      <td>4/2022</td>\n",
       "      <td>0.0</td>\n",
       "      <td>1.133079e+08</td>\n",
       "    </tr>\n",
       "    <tr>\n",
       "      <th>4</th>\n",
       "      <td>1P</td>\n",
       "      <td>ACOM</td>\n",
       "      <td>BUSCA ORGANICA</td>\n",
       "      <td>CARTAO</td>\n",
       "      <td>A VISTA</td>\n",
       "      <td>6.339383e+04</td>\n",
       "      <td>1564.373135</td>\n",
       "      <td>2/2020</td>\n",
       "      <td>0.0</td>\n",
       "      <td>9.917161e+07</td>\n",
       "    </tr>\n",
       "  </tbody>\n",
       "</table>\n",
       "</div>"
      ],
      "text/plain": [
       "  Canal Marca  Origem Tráfego     MDP Parcelamento       Receita  \\\n",
       "0    3P  ACOM       BUSCA PPC     AME      A VISTA  5.697485e+05   \n",
       "1    1P  ACOM  TRAFEGO DIRETO     PIX      A VISTA  1.448811e+06   \n",
       "2    3P  SUBA  TRAFEGO DIRETO     AME      A VISTA  8.944835e+04   \n",
       "3    3P  ACOM  TRAFEGO DIRETO  BOLETO      A VISTA  1.235274e+05   \n",
       "4    1P  ACOM  BUSCA ORGANICA  CARTAO      A VISTA  6.339383e+04   \n",
       "\n",
       "        Pedidos  Mês/Ano  Custo Parcelamento  Volume Venda  \n",
       "0   3983.256299   9/2020                 0.0  2.269454e+09  \n",
       "1  39880.373945  10/2021                 0.0  5.777913e+10  \n",
       "2    669.073494  12/2020                 0.0  5.984752e+07  \n",
       "3    917.269307   4/2022                 0.0  1.133079e+08  \n",
       "4   1564.373135   2/2020                 0.0  9.917161e+07  "
      ]
     },
     "execution_count": 4,
     "metadata": {},
     "output_type": "execute_result"
    }
   ],
   "source": [
    "df.head()"
   ]
  },
  {
   "cell_type": "code",
   "execution_count": 5,
   "id": "1540cab1",
   "metadata": {},
   "outputs": [],
   "source": [
    "#Tratando Outliers\n",
    "z_scores = stats.zscore(df[['Pedidos','Receita']])\n",
    "\n",
    "abs_z_scores = np.abs(z_scores)\n",
    "filtered_entries = (abs_z_scores < 3).all(axis=1)\n",
    "new_df = df[filtered_entries]\n",
    "\n",
    "new_df.to_csv(\"VendasMercado_Manipulado.csv\",encoding = 'utf-8', index = False)"
   ]
  },
  {
   "cell_type": "code",
   "execution_count": null,
   "id": "23002a96",
   "metadata": {},
   "outputs": [],
   "source": []
  },
  {
   "cell_type": "code",
   "execution_count": 6,
   "id": "f9af3964",
   "metadata": {},
   "outputs": [
    {
     "name": "stdout",
     "output_type": "stream",
     "text": [
      "<class 'pandas.core.frame.DataFrame'>\n",
      "Int64Index: 3975 entries, 0 to 4006\n",
      "Data columns (total 10 columns):\n",
      " #   Column              Non-Null Count  Dtype  \n",
      "---  ------              --------------  -----  \n",
      " 0   Canal               3975 non-null   object \n",
      " 1   Marca               3975 non-null   object \n",
      " 2   Origem Tráfego      3975 non-null   object \n",
      " 3   MDP                 3975 non-null   object \n",
      " 4   Parcelamento        3975 non-null   object \n",
      " 5   Receita             3975 non-null   float64\n",
      " 6   Pedidos             3975 non-null   float64\n",
      " 7   Mês/Ano             3975 non-null   object \n",
      " 8   Custo Parcelamento  3975 non-null   float64\n",
      " 9   Volume Venda        3975 non-null   float64\n",
      "dtypes: float64(4), object(6)\n",
      "memory usage: 341.6+ KB\n"
     ]
    }
   ],
   "source": [
    "new_df.info()"
   ]
  },
  {
   "cell_type": "code",
   "execution_count": 7,
   "id": "b0a392f5",
   "metadata": {},
   "outputs": [
    {
     "name": "stdout",
     "output_type": "stream",
     "text": [
      "---------------------------Antigo--------------------\n",
      "            Receita       Pedidos  Custo Parcelamento  Volume Venda\n",
      "count  4.007000e+03  4.007000e+03         4007.000000  4.007000e+03\n",
      "mean   2.191620e+05  4.599834e+03          284.395278  3.631881e+10\n",
      "std    9.375611e+05  4.205505e+04         1562.805106  6.083837e+11\n",
      "min    6.184849e+00  1.162566e+00            0.000000  7.190294e+00\n",
      "25%    1.489352e+03  1.448440e+01            0.000000  2.073731e+04\n",
      "50%    1.876860e+04  1.313087e+02            0.000000  2.364005e+06\n",
      "75%    9.889251e+04  7.361906e+02            0.000000  7.461737e+07\n",
      "max    2.311184e+07  1.197366e+06        32786.249064  1.991429e+13\n",
      "\n",
      "-----------------------------Novo--------------------\n",
      "            Receita        Pedidos  Custo Parcelamento  Volume Venda\n",
      "count  3.975000e+03    3975.000000         3975.000000  3.975000e+03\n",
      "mean   1.535250e+05    1799.957924          243.957792  2.060008e+09\n",
      "std    3.761573e+05    6257.418574         1224.092338  1.217969e+10\n",
      "min    6.184849e+00       1.162566            0.000000  7.190294e+00\n",
      "25%    1.447958e+03      14.400446            0.000000  2.010278e+04\n",
      "50%    1.819767e+04     128.132740            0.000000  2.280133e+06\n",
      "75%    9.543744e+04     696.247170            0.000000  6.534287e+07\n",
      "max    2.917648e+06  105718.912667        13682.328524  2.850018e+11\n"
     ]
    }
   ],
   "source": [
    "print('---------------------------Antigo--------------------')\n",
    "print(df.describe())\n",
    "print()\n",
    "print('-----------------------------Novo--------------------')\n",
    "print(new_df.describe())"
   ]
  },
  {
   "cell_type": "code",
   "execution_count": 8,
   "id": "eced3910",
   "metadata": {},
   "outputs": [],
   "source": [
    "#normalização\n",
    "from sklearn.preprocessing import StandardScaler\n",
    "scaler = StandardScaler()\n",
    "df_norm = new_df.copy()\n",
    "col = [5,6,8,9]\n",
    "\n",
    "df_norm.iloc[:,col] = scaler.fit_transform(df_norm.iloc[:,col].to_numpy())\n"
   ]
  },
  {
   "cell_type": "code",
   "execution_count": 9,
   "id": "6f1ff76f",
   "metadata": {},
   "outputs": [
    {
     "data": {
      "text/html": [
       "<div>\n",
       "<style scoped>\n",
       "    .dataframe tbody tr th:only-of-type {\n",
       "        vertical-align: middle;\n",
       "    }\n",
       "\n",
       "    .dataframe tbody tr th {\n",
       "        vertical-align: top;\n",
       "    }\n",
       "\n",
       "    .dataframe thead th {\n",
       "        text-align: right;\n",
       "    }\n",
       "</style>\n",
       "<table border=\"1\" class=\"dataframe\">\n",
       "  <thead>\n",
       "    <tr style=\"text-align: right;\">\n",
       "      <th></th>\n",
       "      <th>Canal</th>\n",
       "      <th>Marca</th>\n",
       "      <th>Origem Tráfego</th>\n",
       "      <th>MDP</th>\n",
       "      <th>Parcelamento</th>\n",
       "      <th>Receita</th>\n",
       "      <th>Pedidos</th>\n",
       "      <th>Mês/Ano</th>\n",
       "      <th>Custo Parcelamento</th>\n",
       "      <th>Volume Venda</th>\n",
       "    </tr>\n",
       "  </thead>\n",
       "  <tbody>\n",
       "    <tr>\n",
       "      <th>0</th>\n",
       "      <td>3P</td>\n",
       "      <td>ACOM</td>\n",
       "      <td>BUSCA PPC</td>\n",
       "      <td>AME</td>\n",
       "      <td>A VISTA</td>\n",
       "      <td>1.106654</td>\n",
       "      <td>0.348957</td>\n",
       "      <td>9/2020</td>\n",
       "      <td>-0.199322</td>\n",
       "      <td>0.017199</td>\n",
       "    </tr>\n",
       "    <tr>\n",
       "      <th>1</th>\n",
       "      <td>1P</td>\n",
       "      <td>ACOM</td>\n",
       "      <td>TRAFEGO DIRETO</td>\n",
       "      <td>PIX</td>\n",
       "      <td>A VISTA</td>\n",
       "      <td>3.443902</td>\n",
       "      <td>6.086409</td>\n",
       "      <td>10/2021</td>\n",
       "      <td>-0.199322</td>\n",
       "      <td>4.575334</td>\n",
       "    </tr>\n",
       "    <tr>\n",
       "      <th>2</th>\n",
       "      <td>3P</td>\n",
       "      <td>SUBA</td>\n",
       "      <td>TRAFEGO DIRETO</td>\n",
       "      <td>AME</td>\n",
       "      <td>A VISTA</td>\n",
       "      <td>-0.170367</td>\n",
       "      <td>-0.180750</td>\n",
       "      <td>12/2020</td>\n",
       "      <td>-0.199322</td>\n",
       "      <td>-0.164242</td>\n",
       "    </tr>\n",
       "    <tr>\n",
       "      <th>3</th>\n",
       "      <td>3P</td>\n",
       "      <td>ACOM</td>\n",
       "      <td>TRAFEGO DIRETO</td>\n",
       "      <td>BOLETO</td>\n",
       "      <td>A VISTA</td>\n",
       "      <td>-0.079757</td>\n",
       "      <td>-0.141080</td>\n",
       "      <td>4/2022</td>\n",
       "      <td>-0.199322</td>\n",
       "      <td>-0.159852</td>\n",
       "    </tr>\n",
       "    <tr>\n",
       "      <th>4</th>\n",
       "      <td>1P</td>\n",
       "      <td>ACOM</td>\n",
       "      <td>BUSCA ORGANICA</td>\n",
       "      <td>CARTAO</td>\n",
       "      <td>A VISTA</td>\n",
       "      <td>-0.239640</td>\n",
       "      <td>-0.037654</td>\n",
       "      <td>2/2020</td>\n",
       "      <td>-0.199322</td>\n",
       "      <td>-0.161013</td>\n",
       "    </tr>\n",
       "  </tbody>\n",
       "</table>\n",
       "</div>"
      ],
      "text/plain": [
       "  Canal Marca  Origem Tráfego     MDP Parcelamento   Receita   Pedidos  \\\n",
       "0    3P  ACOM       BUSCA PPC     AME      A VISTA  1.106654  0.348957   \n",
       "1    1P  ACOM  TRAFEGO DIRETO     PIX      A VISTA  3.443902  6.086409   \n",
       "2    3P  SUBA  TRAFEGO DIRETO     AME      A VISTA -0.170367 -0.180750   \n",
       "3    3P  ACOM  TRAFEGO DIRETO  BOLETO      A VISTA -0.079757 -0.141080   \n",
       "4    1P  ACOM  BUSCA ORGANICA  CARTAO      A VISTA -0.239640 -0.037654   \n",
       "\n",
       "   Mês/Ano  Custo Parcelamento  Volume Venda  \n",
       "0   9/2020           -0.199322      0.017199  \n",
       "1  10/2021           -0.199322      4.575334  \n",
       "2  12/2020           -0.199322     -0.164242  \n",
       "3   4/2022           -0.199322     -0.159852  \n",
       "4   2/2020           -0.199322     -0.161013  "
      ]
     },
     "execution_count": 9,
     "metadata": {},
     "output_type": "execute_result"
    }
   ],
   "source": [
    "df_norm.head()"
   ]
  },
  {
   "cell_type": "code",
   "execution_count": 10,
   "id": "8a356d9d",
   "metadata": {},
   "outputs": [
    {
     "data": {
      "text/html": [
       "<div>\n",
       "<style scoped>\n",
       "    .dataframe tbody tr th:only-of-type {\n",
       "        vertical-align: middle;\n",
       "    }\n",
       "\n",
       "    .dataframe tbody tr th {\n",
       "        vertical-align: top;\n",
       "    }\n",
       "\n",
       "    .dataframe thead th {\n",
       "        text-align: right;\n",
       "    }\n",
       "</style>\n",
       "<table border=\"1\" class=\"dataframe\">\n",
       "  <thead>\n",
       "    <tr style=\"text-align: right;\">\n",
       "      <th></th>\n",
       "      <th>Receita</th>\n",
       "      <th>Pedidos</th>\n",
       "      <th>Custo Parcelamento</th>\n",
       "      <th>Volume Venda</th>\n",
       "    </tr>\n",
       "  </thead>\n",
       "  <tbody>\n",
       "    <tr>\n",
       "      <th>Receita</th>\n",
       "      <td>1.000000</td>\n",
       "      <td>0.757982</td>\n",
       "      <td>0.595336</td>\n",
       "      <td>0.708933</td>\n",
       "    </tr>\n",
       "    <tr>\n",
       "      <th>Pedidos</th>\n",
       "      <td>0.757982</td>\n",
       "      <td>1.000000</td>\n",
       "      <td>0.237458</td>\n",
       "      <td>0.930922</td>\n",
       "    </tr>\n",
       "    <tr>\n",
       "      <th>Custo Parcelamento</th>\n",
       "      <td>0.595336</td>\n",
       "      <td>0.237458</td>\n",
       "      <td>1.000000</td>\n",
       "      <td>0.232086</td>\n",
       "    </tr>\n",
       "    <tr>\n",
       "      <th>Volume Venda</th>\n",
       "      <td>0.708933</td>\n",
       "      <td>0.930922</td>\n",
       "      <td>0.232086</td>\n",
       "      <td>1.000000</td>\n",
       "    </tr>\n",
       "  </tbody>\n",
       "</table>\n",
       "</div>"
      ],
      "text/plain": [
       "                     Receita   Pedidos  Custo Parcelamento  Volume Venda\n",
       "Receita             1.000000  0.757982            0.595336      0.708933\n",
       "Pedidos             0.757982  1.000000            0.237458      0.930922\n",
       "Custo Parcelamento  0.595336  0.237458            1.000000      0.232086\n",
       "Volume Venda        0.708933  0.930922            0.232086      1.000000"
      ]
     },
     "execution_count": 10,
     "metadata": {},
     "output_type": "execute_result"
    }
   ],
   "source": [
    "df_norm.corr()"
   ]
  },
  {
   "cell_type": "code",
   "execution_count": 20,
   "id": "107947ef",
   "metadata": {},
   "outputs": [
    {
     "data": {
      "image/png": "[encoded data removed]",
      "text/plain": [
       "<Figure size 432x288 with 2 Axes>"
      ]
     },
     "metadata": {
      "needs_background": "light"
     },
     "output_type": "display_data"
    }
   ],
   "source": [
    "#to BI\n",
    "import numpy as np\n",
    "import matplotlib.pyplot as plt\n",
    "import seaborn as sns\n",
    "from scipy import stats\n",
    "\n",
    "z_scores = stats.zscore(df[['Pedidos','Receita']])\n",
    "\n",
    "abs_z_scores = np.abs(z_scores)\n",
    "filtered_entries = (abs_z_scores < 3).all(axis=1)\n",
    "new_df = df[filtered_entries]\n",
    "#--------------------------------------#\n",
    "from sklearn.preprocessing import StandardScaler\n",
    "scaler = StandardScaler()\n",
    "df_norm = new_df.copy()\n",
    "col = [5,6,8,9]\n",
    "#--------------------------------------#\n",
    "df_norm.iloc[:,col] = scaler.fit_transform(df_norm.iloc[:,col].to_numpy())\n",
    "df_norm.rename(columns={'Custo Parcelamento':'C_P','Volume Venda':'V_V'},inplace = True)\n",
    "corr = df_norm.corr()\n",
    "sns.heatmap(corr, cmap = \"YlOrRd\", linewidths = 0.1)\n",
    "plt.show()"
   ]
  },
  {
   "cell_type": "code",
   "execution_count": 12,
   "id": "f46552d6",
   "metadata": {},
   "outputs": [
    {
     "data": {
      "image/png": "[encoded data removed]",
      "text/plain": [
       "<Figure size 432x288 with 1 Axes>"
      ]
     },
     "metadata": {
      "needs_background": "light"
     },
     "output_type": "display_data"
    }
   ],
   "source": [
    "g = sns.scatterplot(x=\"Pedidos\", y=\"Receita\", \n",
    "                    data=df_norm)\n",
    "plt.show()"
   ]
  }
 ],
 "metadata": {
  "kernelspec": {
   "display_name": "Python 3 (ipykernel)",
   "language": "python",
   "name": "python3"
  },
  "language_info": {
   "codemirror_mode": {
    "name": "ipython",
    "version": 3
   },
   "file_extension": ".py",
   "mimetype": "text/x-python",
   "name": "python",
   "nbconvert_exporter": "python",
   "pygments_lexer": "ipython3",
   "version": "3.9.7"
  }
 },
 "nbformat": 4,
 "nbformat_minor": 5
}
