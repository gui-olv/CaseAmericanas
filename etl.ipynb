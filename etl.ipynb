{
 "cells": [
  {
   "cell_type": "markdown",
   "id": "677b2906",
   "metadata": {},
   "source": [
    "<h1><center><font color = 'RED'> ETL - Case Americanas "
   ]
  },
  {
   "cell_type": "code",
   "execution_count": 1,
   "id": "90f15468",
   "metadata": {},
   "outputs": [],
   "source": [
    "import pandas as pd \n",
    "import matplotlib\n",
    "import numpy as np\n",
    "import matplotlib.pyplot as plt\n",
    "import seaborn as sns\n",
    "from datetime import datetime"
   ]
  },
  {
   "cell_type": "markdown",
   "id": "781e7327",
   "metadata": {},
   "source": [
    "#### Tratamento Base Vendas"
   ]
  },
  {
   "cell_type": "code",
   "execution_count": 2,
   "id": "ded83535",
   "metadata": {},
   "outputs": [],
   "source": [
    "df = pd.read_excel(\"CaseAmericanas.xlsx\", sheet_name = \"Base Venda\")"
   ]
  },
  {
   "cell_type": "code",
   "execution_count": 3,
   "id": "0fe32aa0",
   "metadata": {},
   "outputs": [
    {
     "data": {
      "text/html": [
       "<div>\n",
       "<style scoped>\n",
       "    .dataframe tbody tr th:only-of-type {\n",
       "        vertical-align: middle;\n",
       "    }\n",
       "\n",
       "    .dataframe tbody tr th {\n",
       "        vertical-align: top;\n",
       "    }\n",
       "\n",
       "    .dataframe thead th {\n",
       "        text-align: right;\n",
       "    }\n",
       "</style>\n",
       "<table border=\"1\" class=\"dataframe\">\n",
       "  <thead>\n",
       "    <tr style=\"text-align: right;\">\n",
       "      <th></th>\n",
       "      <th>Ano</th>\n",
       "      <th>Mês</th>\n",
       "      <th>Departamento</th>\n",
       "      <th>Canal</th>\n",
       "      <th>Marca</th>\n",
       "      <th>Origem Tráfego</th>\n",
       "      <th>MDP</th>\n",
       "      <th>Parcelamento</th>\n",
       "      <th>Receita</th>\n",
       "      <th>Pedidos</th>\n",
       "    </tr>\n",
       "  </thead>\n",
       "  <tbody>\n",
       "    <tr>\n",
       "      <th>24372</th>\n",
       "      <td>2022</td>\n",
       "      <td>4</td>\n",
       "      <td>INSTRUMENTOS MUSICAIS</td>\n",
       "      <td>3P</td>\n",
       "      <td>SUBA</td>\n",
       "      <td>AFILIADOS</td>\n",
       "      <td>PIX</td>\n",
       "      <td>A VISTA</td>\n",
       "      <td>2.503007e+03</td>\n",
       "      <td>4.041684</td>\n",
       "    </tr>\n",
       "    <tr>\n",
       "      <th>64201</th>\n",
       "      <td>2022</td>\n",
       "      <td>1</td>\n",
       "      <td>ELETROPORTÃTEIS</td>\n",
       "      <td>1P</td>\n",
       "      <td>SUBA</td>\n",
       "      <td>BUSCA PPC</td>\n",
       "      <td>BOLETO</td>\n",
       "      <td>A VISTA</td>\n",
       "      <td>6.131950e+04</td>\n",
       "      <td>196.819259</td>\n",
       "    </tr>\n",
       "    <tr>\n",
       "      <th>38513</th>\n",
       "      <td>2021</td>\n",
       "      <td>6</td>\n",
       "      <td>CLIMATIZAÇÃO</td>\n",
       "      <td>3P</td>\n",
       "      <td>SHOP</td>\n",
       "      <td>BUSCA ORGANICA</td>\n",
       "      <td>BOLETO</td>\n",
       "      <td>A VISTA</td>\n",
       "      <td>4.474647e+04</td>\n",
       "      <td>33.406104</td>\n",
       "    </tr>\n",
       "    <tr>\n",
       "      <th>41071</th>\n",
       "      <td>2021</td>\n",
       "      <td>2</td>\n",
       "      <td>CLIMATIZAÇÃO</td>\n",
       "      <td>3P</td>\n",
       "      <td>ACOM</td>\n",
       "      <td>COMPARADORES</td>\n",
       "      <td>AME</td>\n",
       "      <td>A VISTA</td>\n",
       "      <td>4.946950e+05</td>\n",
       "      <td>303.082858</td>\n",
       "    </tr>\n",
       "    <tr>\n",
       "      <th>51828</th>\n",
       "      <td>2020</td>\n",
       "      <td>1</td>\n",
       "      <td>ELETRODOMESTICOS</td>\n",
       "      <td>1P</td>\n",
       "      <td>SHOP</td>\n",
       "      <td>AFILIADOS</td>\n",
       "      <td>CARTAO</td>\n",
       "      <td>A VISTA</td>\n",
       "      <td>4.677795e+04</td>\n",
       "      <td>37.401846</td>\n",
       "    </tr>\n",
       "    <tr>\n",
       "      <th>49371</th>\n",
       "      <td>2020</td>\n",
       "      <td>2</td>\n",
       "      <td>ELETRODOMESTICOS</td>\n",
       "      <td>3P</td>\n",
       "      <td>ACOM</td>\n",
       "      <td>AFILIADOS</td>\n",
       "      <td>CARTAO</td>\n",
       "      <td>A VISTA</td>\n",
       "      <td>1.129558e+06</td>\n",
       "      <td>962.644479</td>\n",
       "    </tr>\n",
       "    <tr>\n",
       "      <th>29144</th>\n",
       "      <td>2020</td>\n",
       "      <td>5</td>\n",
       "      <td>UTILIDADES DOMESTICAS</td>\n",
       "      <td>1P</td>\n",
       "      <td>SUBA</td>\n",
       "      <td>COMPARADORES</td>\n",
       "      <td>CARTAO</td>\n",
       "      <td>A VISTA</td>\n",
       "      <td>6.173696e+03</td>\n",
       "      <td>20.832232</td>\n",
       "    </tr>\n",
       "    <tr>\n",
       "      <th>39781</th>\n",
       "      <td>2020</td>\n",
       "      <td>3</td>\n",
       "      <td>CLIMATIZAÇÃO</td>\n",
       "      <td>3P</td>\n",
       "      <td>SHOP</td>\n",
       "      <td>AFILIADOS</td>\n",
       "      <td>CARTAO</td>\n",
       "      <td>A PRAZO</td>\n",
       "      <td>1.727290e+05</td>\n",
       "      <td>116.571131</td>\n",
       "    </tr>\n",
       "    <tr>\n",
       "      <th>5806</th>\n",
       "      <td>2020</td>\n",
       "      <td>2</td>\n",
       "      <td>TELEFONIA</td>\n",
       "      <td>3P</td>\n",
       "      <td>SHOP</td>\n",
       "      <td>COMPARADORES</td>\n",
       "      <td>BOLETO</td>\n",
       "      <td>A VISTA</td>\n",
       "      <td>3.707945e+04</td>\n",
       "      <td>93.590057</td>\n",
       "    </tr>\n",
       "    <tr>\n",
       "      <th>9619</th>\n",
       "      <td>2021</td>\n",
       "      <td>4</td>\n",
       "      <td>ELETRONICOS</td>\n",
       "      <td>3P</td>\n",
       "      <td>SHOP</td>\n",
       "      <td>COMPARADORES</td>\n",
       "      <td>CARTAO</td>\n",
       "      <td>A PRAZO</td>\n",
       "      <td>2.603722e+04</td>\n",
       "      <td>48.325362</td>\n",
       "    </tr>\n",
       "  </tbody>\n",
       "</table>\n",
       "</div>"
      ],
      "text/plain": [
       "        Ano  Mês           Departamento Canal Marca  Origem Tráfego     MDP  \\\n",
       "24372  2022    4  INSTRUMENTOS MUSICAIS    3P  SUBA       AFILIADOS     PIX   \n",
       "64201  2022    1       ELETROPORTÃTEIS    1P  SUBA       BUSCA PPC  BOLETO   \n",
       "38513  2021    6           CLIMATIZAÇÃO    3P  SHOP  BUSCA ORGANICA  BOLETO   \n",
       "41071  2021    2           CLIMATIZAÇÃO    3P  ACOM    COMPARADORES     AME   \n",
       "51828  2020    1       ELETRODOMESTICOS    1P  SHOP       AFILIADOS  CARTAO   \n",
       "49371  2020    2       ELETRODOMESTICOS    3P  ACOM       AFILIADOS  CARTAO   \n",
       "29144  2020    5  UTILIDADES DOMESTICAS    1P  SUBA    COMPARADORES  CARTAO   \n",
       "39781  2020    3           CLIMATIZAÇÃO    3P  SHOP       AFILIADOS  CARTAO   \n",
       "5806   2020    2              TELEFONIA    3P  SHOP    COMPARADORES  BOLETO   \n",
       "9619   2021    4            ELETRONICOS    3P  SHOP    COMPARADORES  CARTAO   \n",
       "\n",
       "      Parcelamento       Receita     Pedidos  \n",
       "24372      A VISTA  2.503007e+03    4.041684  \n",
       "64201      A VISTA  6.131950e+04  196.819259  \n",
       "38513      A VISTA  4.474647e+04   33.406104  \n",
       "41071      A VISTA  4.946950e+05  303.082858  \n",
       "51828      A VISTA  4.677795e+04   37.401846  \n",
       "49371      A VISTA  1.129558e+06  962.644479  \n",
       "29144      A VISTA  6.173696e+03   20.832232  \n",
       "39781      A PRAZO  1.727290e+05  116.571131  \n",
       "5806       A VISTA  3.707945e+04   93.590057  \n",
       "9619       A PRAZO  2.603722e+04   48.325362  "
      ]
     },
     "execution_count": 3,
     "metadata": {},
     "output_type": "execute_result"
    }
   ],
   "source": [
    "df.sample(10)"
   ]
  },
  {
   "cell_type": "code",
   "execution_count": 4,
   "id": "316d57b8",
   "metadata": {},
   "outputs": [
    {
     "data": {
      "text/plain": [
       "Ano               0\n",
       "Mês               0\n",
       "Departamento      0\n",
       "Canal             0\n",
       "Marca             0\n",
       "Origem Tráfego    0\n",
       "MDP               0\n",
       "Parcelamento      0\n",
       "Receita           0\n",
       "Pedidos           0\n",
       "dtype: int64"
      ]
     },
     "execution_count": 4,
     "metadata": {},
     "output_type": "execute_result"
    }
   ],
   "source": [
    "df.isnull().sum()"
   ]
  },
  {
   "cell_type": "code",
   "execution_count": 5,
   "id": "178db1df",
   "metadata": {},
   "outputs": [
    {
     "name": "stdout",
     "output_type": "stream",
     "text": [
      "<class 'pandas.core.frame.DataFrame'>\n",
      "RangeIndex: 68761 entries, 0 to 68760\n",
      "Data columns (total 10 columns):\n",
      " #   Column          Non-Null Count  Dtype  \n",
      "---  ------          --------------  -----  \n",
      " 0   Ano             68761 non-null  int64  \n",
      " 1   Mês             68761 non-null  int64  \n",
      " 2   Departamento    68761 non-null  object \n",
      " 3   Canal           68761 non-null  object \n",
      " 4   Marca           68761 non-null  object \n",
      " 5   Origem Tráfego  68761 non-null  object \n",
      " 6   MDP             68761 non-null  object \n",
      " 7   Parcelamento    68761 non-null  object \n",
      " 8   Receita         68761 non-null  float64\n",
      " 9   Pedidos         68761 non-null  float64\n",
      "dtypes: float64(2), int64(2), object(6)\n",
      "memory usage: 5.2+ MB\n"
     ]
    }
   ],
   "source": [
    "df.info()"
   ]
  },
  {
   "cell_type": "code",
   "execution_count": 6,
   "id": "90cc96eb",
   "metadata": {},
   "outputs": [],
   "source": [
    "#Alterando os tipo de dados\n",
    "df['Ano'] = df['Ano'].astype(str)\n",
    "df['Mês'] = df['Mês'].astype(str)\n",
    "#df['Pedidos'] = round(df['Pedidos'])\n",
    "#df['Pedidos'] = df['Pedidos'].astype('int64')"
   ]
  },
  {
   "cell_type": "code",
   "execution_count": 7,
   "id": "b1e26443",
   "metadata": {},
   "outputs": [],
   "source": [
    "#Crianda Coluna Mês/Ano\n",
    "df['Mês/Ano'] = df['Mês'].str.cat(df['Ano'],sep=\"/\")\n",
    "#Transformando o Tipo para DateTime \n",
    "#df['Mês/Ano'] = list(map(lambda x:datetime.strptime(x, \"%m/%Y\").date(),df['Mês/Ano']))\n",
    "#Eliminando a Colunas Ano e Mês\n",
    "df.drop([\"Ano\", \"Mês\"], axis=1, inplace=True)"
   ]
  },
  {
   "cell_type": "code",
   "execution_count": 8,
   "id": "7e11dd69",
   "metadata": {},
   "outputs": [
    {
     "name": "stdout",
     "output_type": "stream",
     "text": [
      "<class 'pandas.core.frame.DataFrame'>\n",
      "RangeIndex: 68761 entries, 0 to 68760\n",
      "Data columns (total 9 columns):\n",
      " #   Column          Non-Null Count  Dtype  \n",
      "---  ------          --------------  -----  \n",
      " 0   Departamento    68761 non-null  object \n",
      " 1   Canal           68761 non-null  object \n",
      " 2   Marca           68761 non-null  object \n",
      " 3   Origem Tráfego  68761 non-null  object \n",
      " 4   MDP             68761 non-null  object \n",
      " 5   Parcelamento    68761 non-null  object \n",
      " 6   Receita         68761 non-null  float64\n",
      " 7   Pedidos         68761 non-null  float64\n",
      " 8   Mês/Ano         68761 non-null  object \n",
      "dtypes: float64(2), object(7)\n",
      "memory usage: 4.7+ MB\n"
     ]
    }
   ],
   "source": [
    "df.info()"
   ]
  },
  {
   "cell_type": "code",
   "execution_count": 9,
   "id": "c70d4e23",
   "metadata": {},
   "outputs": [
    {
     "data": {
      "text/html": [
       "<div>\n",
       "<style scoped>\n",
       "    .dataframe tbody tr th:only-of-type {\n",
       "        vertical-align: middle;\n",
       "    }\n",
       "\n",
       "    .dataframe tbody tr th {\n",
       "        vertical-align: top;\n",
       "    }\n",
       "\n",
       "    .dataframe thead th {\n",
       "        text-align: right;\n",
       "    }\n",
       "</style>\n",
       "<table border=\"1\" class=\"dataframe\">\n",
       "  <thead>\n",
       "    <tr style=\"text-align: right;\">\n",
       "      <th></th>\n",
       "      <th>Departamento</th>\n",
       "      <th>Canal</th>\n",
       "      <th>Marca</th>\n",
       "      <th>Origem Tráfego</th>\n",
       "      <th>MDP</th>\n",
       "      <th>Parcelamento</th>\n",
       "      <th>Receita</th>\n",
       "      <th>Pedidos</th>\n",
       "      <th>Mês/Ano</th>\n",
       "    </tr>\n",
       "  </thead>\n",
       "  <tbody>\n",
       "    <tr>\n",
       "      <th>5247</th>\n",
       "      <td>TELEFONIA</td>\n",
       "      <td>1P</td>\n",
       "      <td>SHOP</td>\n",
       "      <td>TRAFEGO DIRETO</td>\n",
       "      <td>CARTAO</td>\n",
       "      <td>A VISTA</td>\n",
       "      <td>1.569822e+06</td>\n",
       "      <td>865.890946</td>\n",
       "      <td>5/2021</td>\n",
       "    </tr>\n",
       "    <tr>\n",
       "      <th>4454</th>\n",
       "      <td>TELEFONIA</td>\n",
       "      <td>1P</td>\n",
       "      <td>SOUB</td>\n",
       "      <td>TRAFEGO DIRETO</td>\n",
       "      <td>CARTAO</td>\n",
       "      <td>A PRAZO</td>\n",
       "      <td>6.384476e+05</td>\n",
       "      <td>293.095913</td>\n",
       "      <td>1/2022</td>\n",
       "    </tr>\n",
       "    <tr>\n",
       "      <th>48998</th>\n",
       "      <td>ELETRODOMESTICOS</td>\n",
       "      <td>1P</td>\n",
       "      <td>ACOM</td>\n",
       "      <td>BUSCA PPC</td>\n",
       "      <td>CARTAO</td>\n",
       "      <td>A VISTA</td>\n",
       "      <td>7.069529e+05</td>\n",
       "      <td>608.416161</td>\n",
       "      <td>4/2020</td>\n",
       "    </tr>\n",
       "    <tr>\n",
       "      <th>54478</th>\n",
       "      <td>MÓVEIS</td>\n",
       "      <td>3P</td>\n",
       "      <td>SUBA</td>\n",
       "      <td>COMPARADORES</td>\n",
       "      <td>BOLETO</td>\n",
       "      <td>A VISTA</td>\n",
       "      <td>7.475345e+03</td>\n",
       "      <td>17.347408</td>\n",
       "      <td>4/2021</td>\n",
       "    </tr>\n",
       "    <tr>\n",
       "      <th>40887</th>\n",
       "      <td>CLIMATIZAÇÃO</td>\n",
       "      <td>3P</td>\n",
       "      <td>ACOM</td>\n",
       "      <td>TRAFEGO DIRETO</td>\n",
       "      <td>CARTAO</td>\n",
       "      <td>A VISTA</td>\n",
       "      <td>3.601935e+06</td>\n",
       "      <td>1821.760636</td>\n",
       "      <td>10/2021</td>\n",
       "    </tr>\n",
       "    <tr>\n",
       "      <th>11819</th>\n",
       "      <td>ELETRONICOS</td>\n",
       "      <td>3P</td>\n",
       "      <td>SOUB</td>\n",
       "      <td>TRAFEGO DIRETO</td>\n",
       "      <td>AME</td>\n",
       "      <td>A VISTA</td>\n",
       "      <td>1.859765e+03</td>\n",
       "      <td>10.250834</td>\n",
       "      <td>4/2021</td>\n",
       "    </tr>\n",
       "    <tr>\n",
       "      <th>25610</th>\n",
       "      <td>BELEZA &amp; PERFUMARIA</td>\n",
       "      <td>3P</td>\n",
       "      <td>SOUB</td>\n",
       "      <td>BUSCA PPC</td>\n",
       "      <td>BOLETO</td>\n",
       "      <td>A VISTA</td>\n",
       "      <td>5.732709e+02</td>\n",
       "      <td>3.090942</td>\n",
       "      <td>3/2022</td>\n",
       "    </tr>\n",
       "    <tr>\n",
       "      <th>25643</th>\n",
       "      <td>BELEZA &amp; PERFUMARIA</td>\n",
       "      <td>3P</td>\n",
       "      <td>SUBA</td>\n",
       "      <td>BUSCA ORGANICA</td>\n",
       "      <td>PIX</td>\n",
       "      <td>A VISTA</td>\n",
       "      <td>2.978372e+04</td>\n",
       "      <td>184.289917</td>\n",
       "      <td>11/2021</td>\n",
       "    </tr>\n",
       "    <tr>\n",
       "      <th>38538</th>\n",
       "      <td>CLIMATIZAÇÃO</td>\n",
       "      <td>1P</td>\n",
       "      <td>ACOM</td>\n",
       "      <td>BUSCA ORGANICA</td>\n",
       "      <td>CARTAO</td>\n",
       "      <td>A PRAZO</td>\n",
       "      <td>1.913083e+05</td>\n",
       "      <td>329.709285</td>\n",
       "      <td>3/2021</td>\n",
       "    </tr>\n",
       "    <tr>\n",
       "      <th>46820</th>\n",
       "      <td>PCS</td>\n",
       "      <td>1P</td>\n",
       "      <td>SOUB</td>\n",
       "      <td>TRAFEGO DIRETO</td>\n",
       "      <td>AME</td>\n",
       "      <td>A VISTA</td>\n",
       "      <td>5.247102e+05</td>\n",
       "      <td>199.815948</td>\n",
       "      <td>4/2021</td>\n",
       "    </tr>\n",
       "  </tbody>\n",
       "</table>\n",
       "</div>"
      ],
      "text/plain": [
       "              Departamento Canal Marca  Origem Tráfego     MDP Parcelamento  \\\n",
       "5247             TELEFONIA    1P  SHOP  TRAFEGO DIRETO  CARTAO      A VISTA   \n",
       "4454             TELEFONIA    1P  SOUB  TRAFEGO DIRETO  CARTAO      A PRAZO   \n",
       "48998     ELETRODOMESTICOS    1P  ACOM       BUSCA PPC  CARTAO      A VISTA   \n",
       "54478               MÓVEIS    3P  SUBA    COMPARADORES  BOLETO      A VISTA   \n",
       "40887         CLIMATIZAÇÃO    3P  ACOM  TRAFEGO DIRETO  CARTAO      A VISTA   \n",
       "11819          ELETRONICOS    3P  SOUB  TRAFEGO DIRETO     AME      A VISTA   \n",
       "25610  BELEZA & PERFUMARIA    3P  SOUB       BUSCA PPC  BOLETO      A VISTA   \n",
       "25643  BELEZA & PERFUMARIA    3P  SUBA  BUSCA ORGANICA     PIX      A VISTA   \n",
       "38538         CLIMATIZAÇÃO    1P  ACOM  BUSCA ORGANICA  CARTAO      A PRAZO   \n",
       "46820                  PCS    1P  SOUB  TRAFEGO DIRETO     AME      A VISTA   \n",
       "\n",
       "            Receita      Pedidos  Mês/Ano  \n",
       "5247   1.569822e+06   865.890946   5/2021  \n",
       "4454   6.384476e+05   293.095913   1/2022  \n",
       "48998  7.069529e+05   608.416161   4/2020  \n",
       "54478  7.475345e+03    17.347408   4/2021  \n",
       "40887  3.601935e+06  1821.760636  10/2021  \n",
       "11819  1.859765e+03    10.250834   4/2021  \n",
       "25610  5.732709e+02     3.090942   3/2022  \n",
       "25643  2.978372e+04   184.289917  11/2021  \n",
       "38538  1.913083e+05   329.709285   3/2021  \n",
       "46820  5.247102e+05   199.815948   4/2021  "
      ]
     },
     "execution_count": 9,
     "metadata": {},
     "output_type": "execute_result"
    }
   ],
   "source": [
    "#Nova Estrutura\n",
    "df.sample(10)"
   ]
  },
  {
   "cell_type": "code",
   "execution_count": 10,
   "id": "fc0a75b0",
   "metadata": {},
   "outputs": [
    {
     "data": {
      "text/plain": [
       "array(['AUTOMOTIVO', 'TELEFONIA', 'ELETRONICOS', 'ESPORTE & LAZER',\n",
       "       'CONSOLES & GAMES', 'INSTRUMENTOS MUSICAIS', 'BELEZA & PERFUMARIA',\n",
       "       'UTILIDADES DOMESTICAS', 'INFORMÁTICA E ACESSÓRIOS',\n",
       "       'CLIMATIZAÇÃO', 'PCS', 'ELETRODOMESTICOS', 'MÓVEIS', 'PC GAMER',\n",
       "       'ELETROPORTÃ\\x81TEIS', 'MERCADO'], dtype=object)"
      ]
     },
     "execution_count": 10,
     "metadata": {},
     "output_type": "execute_result"
    }
   ],
   "source": [
    "#Departamentos\n",
    "df['Departamento'].unique()"
   ]
  },
  {
   "cell_type": "code",
   "execution_count": 11,
   "id": "ba24f34b",
   "metadata": {},
   "outputs": [],
   "source": [
    "#Corrigindo Ortografia dos Departamentos\n",
    "aux = df.index[df.Departamento==df['Departamento'].unique()[2]]\n",
    "df.loc[aux,'Departamento'] = 'ELETRÔNICOS'\n",
    "aux = df.index[df.Departamento==df['Departamento'].unique()[7]]\n",
    "df.loc[aux,'Departamento'] = 'UTILIDADES DOMÉSTICAS'\n",
    "aux = df.index[df.Departamento==df['Departamento'].unique()[11]]\n",
    "df.loc[aux,'Departamento'] = 'ELETRODOMÉSTICOS'\n",
    "aux = df.index[df.Departamento==df['Departamento'].unique()[14]]\n",
    "df.loc[aux,'Departamento'] = 'ELETROPORTÁTEIS'"
   ]
  },
  {
   "cell_type": "code",
   "execution_count": 12,
   "id": "7a651972",
   "metadata": {},
   "outputs": [
    {
     "data": {
      "text/plain": [
       "array(['AUTOMOTIVO', 'TELEFONIA', 'ELETRÔNICOS', 'ESPORTE & LAZER',\n",
       "       'CONSOLES & GAMES', 'INSTRUMENTOS MUSICAIS', 'BELEZA & PERFUMARIA',\n",
       "       'UTILIDADES DOMÉSTICAS', 'INFORMÁTICA E ACESSÓRIOS',\n",
       "       'CLIMATIZAÇÃO', 'PCS', 'ELETRODOMÉSTICOS', 'MÓVEIS', 'PC GAMER',\n",
       "       'ELETROPORTÁTEIS', 'MERCADO'], dtype=object)"
      ]
     },
     "execution_count": 12,
     "metadata": {},
     "output_type": "execute_result"
    }
   ],
   "source": [
    "df['Departamento'].unique()"
   ]
  },
  {
   "cell_type": "markdown",
   "id": "cb3cd8f5",
   "metadata": {},
   "source": [
    "### Criando Coluna Custo de Parcelamento"
   ]
  },
  {
   "cell_type": "code",
   "execution_count": 13,
   "id": "0e3c5e5c",
   "metadata": {},
   "outputs": [
    {
     "data": {
      "text/plain": [
       "array(['A PRAZO', 'A VISTA'], dtype=object)"
      ]
     },
     "execution_count": 13,
     "metadata": {},
     "output_type": "execute_result"
    }
   ],
   "source": [
    "df['Parcelamento'].unique()"
   ]
  },
  {
   "cell_type": "code",
   "execution_count": 14,
   "id": "79365051",
   "metadata": {},
   "outputs": [],
   "source": [
    "df['Custo Parcelamento']=\"\""
   ]
  },
  {
   "cell_type": "code",
   "execution_count": 15,
   "id": "4823a2a9",
   "metadata": {},
   "outputs": [],
   "source": [
    "#Perfomar função!!!!\n",
    "for index in df.index:\n",
    "    if(df.loc[index,'Parcelamento']=='A VISTA'):\n",
    "        df.loc[index,'Custo Parcelamento']=0.0\n",
    "    else:\n",
    "        df.loc[index,'Custo Parcelamento']=df.loc[index,'Receita'] * 0.005"
   ]
  },
  {
   "cell_type": "code",
   "execution_count": 16,
   "id": "accc9c8c",
   "metadata": {},
   "outputs": [],
   "source": [
    "df['Custo Parcelamento'] = df['Custo Parcelamento'].astype('float64')"
   ]
  },
  {
   "cell_type": "code",
   "execution_count": 17,
   "id": "c8c9b207",
   "metadata": {},
   "outputs": [
    {
     "name": "stdout",
     "output_type": "stream",
     "text": [
      "<class 'pandas.core.frame.DataFrame'>\n",
      "RangeIndex: 68761 entries, 0 to 68760\n",
      "Data columns (total 10 columns):\n",
      " #   Column              Non-Null Count  Dtype  \n",
      "---  ------              --------------  -----  \n",
      " 0   Departamento        68761 non-null  object \n",
      " 1   Canal               68761 non-null  object \n",
      " 2   Marca               68761 non-null  object \n",
      " 3   Origem Tráfego      68761 non-null  object \n",
      " 4   MDP                 68761 non-null  object \n",
      " 5   Parcelamento        68761 non-null  object \n",
      " 6   Receita             68761 non-null  float64\n",
      " 7   Pedidos             68761 non-null  float64\n",
      " 8   Mês/Ano             68761 non-null  object \n",
      " 9   Custo Parcelamento  68761 non-null  float64\n",
      "dtypes: float64(3), object(7)\n",
      "memory usage: 5.2+ MB\n"
     ]
    }
   ],
   "source": [
    "df.info()"
   ]
  },
  {
   "cell_type": "markdown",
   "id": "a6f9c32f",
   "metadata": {},
   "source": [
    "#### Volume de Venda "
   ]
  },
  {
   "cell_type": "code",
   "execution_count": 18,
   "id": "78a0fb2a",
   "metadata": {},
   "outputs": [],
   "source": [
    "df['Volume Venda'] = df['Receita']*df['Pedidos']"
   ]
  },
  {
   "cell_type": "code",
   "execution_count": 19,
   "id": "b26fc83b",
   "metadata": {},
   "outputs": [
    {
     "data": {
      "text/html": [
       "<div>\n",
       "<style scoped>\n",
       "    .dataframe tbody tr th:only-of-type {\n",
       "        vertical-align: middle;\n",
       "    }\n",
       "\n",
       "    .dataframe tbody tr th {\n",
       "        vertical-align: top;\n",
       "    }\n",
       "\n",
       "    .dataframe thead th {\n",
       "        text-align: right;\n",
       "    }\n",
       "</style>\n",
       "<table border=\"1\" class=\"dataframe\">\n",
       "  <thead>\n",
       "    <tr style=\"text-align: right;\">\n",
       "      <th></th>\n",
       "      <th>Receita</th>\n",
       "      <th>Pedidos</th>\n",
       "      <th>Custo Parcelamento</th>\n",
       "      <th>Volume Venda</th>\n",
       "    </tr>\n",
       "    <tr>\n",
       "      <th>Departamento</th>\n",
       "      <th></th>\n",
       "      <th></th>\n",
       "      <th></th>\n",
       "      <th></th>\n",
       "    </tr>\n",
       "  </thead>\n",
       "  <tbody>\n",
       "    <tr>\n",
       "      <th>MERCADO</th>\n",
       "      <td>8.781823e+08</td>\n",
       "      <td>1.843153e+07</td>\n",
       "      <td>1.139572e+06</td>\n",
       "      <td>1.455295e+14</td>\n",
       "    </tr>\n",
       "    <tr>\n",
       "      <th>TELEFONIA</th>\n",
       "      <td>8.460592e+09</td>\n",
       "      <td>5.621116e+06</td>\n",
       "      <td>2.114819e+07</td>\n",
       "      <td>1.032166e+14</td>\n",
       "    </tr>\n",
       "    <tr>\n",
       "      <th>ELETROPORTÁTEIS</th>\n",
       "      <td>4.081881e+09</td>\n",
       "      <td>1.443810e+07</td>\n",
       "      <td>9.392704e+06</td>\n",
       "      <td>7.713975e+13</td>\n",
       "    </tr>\n",
       "    <tr>\n",
       "      <th>ELETRÔNICOS</th>\n",
       "      <td>7.195411e+09</td>\n",
       "      <td>4.198404e+06</td>\n",
       "      <td>1.832542e+07</td>\n",
       "      <td>6.075917e+13</td>\n",
       "    </tr>\n",
       "    <tr>\n",
       "      <th>ELETRODOMÉSTICOS</th>\n",
       "      <td>6.567299e+09</td>\n",
       "      <td>4.588685e+06</td>\n",
       "      <td>1.686709e+07</td>\n",
       "      <td>4.189741e+13</td>\n",
       "    </tr>\n",
       "  </tbody>\n",
       "</table>\n",
       "</div>"
      ],
      "text/plain": [
       "                       Receita       Pedidos  Custo Parcelamento  Volume Venda\n",
       "Departamento                                                                  \n",
       "MERCADO           8.781823e+08  1.843153e+07        1.139572e+06  1.455295e+14\n",
       "TELEFONIA         8.460592e+09  5.621116e+06        2.114819e+07  1.032166e+14\n",
       "ELETROPORTÁTEIS   4.081881e+09  1.443810e+07        9.392704e+06  7.713975e+13\n",
       "ELETRÔNICOS       7.195411e+09  4.198404e+06        1.832542e+07  6.075917e+13\n",
       "ELETRODOMÉSTICOS  6.567299e+09  4.588685e+06        1.686709e+07  4.189741e+13"
      ]
     },
     "execution_count": 19,
     "metadata": {},
     "output_type": "execute_result"
    }
   ],
   "source": [
    "ranking_vv = df.groupby(['Departamento']).sum().sort_values(by=['Volume Venda'],ascending=False).head()\n",
    "ranking_vv"
   ]
  },
  {
   "cell_type": "code",
   "execution_count": 20,
   "id": "018e83c3",
   "metadata": {},
   "outputs": [
    {
     "data": {
      "image/png": "[encoded data removed]",
      "text/plain": [
       "<Figure size 720x360 with 1 Axes>"
      ]
     },
     "metadata": {
      "needs_background": "light"
     },
     "output_type": "display_data"
    }
   ],
   "source": [
    "ranking_vv['Volume Venda'].plot.bar(color = 'Magenta', figsize = (10, 5))\n",
    "plt.title('Departamentos por Volume Venda', fontsize = 15)\n",
    "plt.ylabel('Total')\n",
    "plt.show()"
   ]
  },
  {
   "cell_type": "markdown",
   "id": "9b8b1221",
   "metadata": {},
   "source": [
    "### Custo de Parcelamento"
   ]
  },
  {
   "cell_type": "code",
   "execution_count": 21,
   "id": "ff733741",
   "metadata": {},
   "outputs": [
    {
     "data": {
      "text/html": [
       "<div>\n",
       "<style scoped>\n",
       "    .dataframe tbody tr th:only-of-type {\n",
       "        vertical-align: middle;\n",
       "    }\n",
       "\n",
       "    .dataframe tbody tr th {\n",
       "        vertical-align: top;\n",
       "    }\n",
       "\n",
       "    .dataframe thead th {\n",
       "        text-align: right;\n",
       "    }\n",
       "</style>\n",
       "<table border=\"1\" class=\"dataframe\">\n",
       "  <thead>\n",
       "    <tr style=\"text-align: right;\">\n",
       "      <th></th>\n",
       "      <th>Receita</th>\n",
       "      <th>Pedidos</th>\n",
       "      <th>Custo Parcelamento</th>\n",
       "      <th>Volume Venda</th>\n",
       "    </tr>\n",
       "    <tr>\n",
       "      <th>Departamento</th>\n",
       "      <th></th>\n",
       "      <th></th>\n",
       "      <th></th>\n",
       "      <th></th>\n",
       "    </tr>\n",
       "  </thead>\n",
       "  <tbody>\n",
       "    <tr>\n",
       "      <th>TELEFONIA</th>\n",
       "      <td>8.460592e+09</td>\n",
       "      <td>5.621116e+06</td>\n",
       "      <td>2.114819e+07</td>\n",
       "      <td>1.032166e+14</td>\n",
       "    </tr>\n",
       "    <tr>\n",
       "      <th>ELETRÔNICOS</th>\n",
       "      <td>7.195411e+09</td>\n",
       "      <td>4.198404e+06</td>\n",
       "      <td>1.832542e+07</td>\n",
       "      <td>6.075917e+13</td>\n",
       "    </tr>\n",
       "    <tr>\n",
       "      <th>ELETRODOMÉSTICOS</th>\n",
       "      <td>6.567299e+09</td>\n",
       "      <td>4.588685e+06</td>\n",
       "      <td>1.686709e+07</td>\n",
       "      <td>4.189741e+13</td>\n",
       "    </tr>\n",
       "    <tr>\n",
       "      <th>ELETROPORTÁTEIS</th>\n",
       "      <td>4.081881e+09</td>\n",
       "      <td>1.443810e+07</td>\n",
       "      <td>9.392704e+06</td>\n",
       "      <td>7.713975e+13</td>\n",
       "    </tr>\n",
       "    <tr>\n",
       "      <th>PCS</th>\n",
       "      <td>3.054686e+09</td>\n",
       "      <td>9.498262e+05</td>\n",
       "      <td>7.150589e+06</td>\n",
       "      <td>3.436355e+12</td>\n",
       "    </tr>\n",
       "  </tbody>\n",
       "</table>\n",
       "</div>"
      ],
      "text/plain": [
       "                       Receita       Pedidos  Custo Parcelamento  Volume Venda\n",
       "Departamento                                                                  \n",
       "TELEFONIA         8.460592e+09  5.621116e+06        2.114819e+07  1.032166e+14\n",
       "ELETRÔNICOS       7.195411e+09  4.198404e+06        1.832542e+07  6.075917e+13\n",
       "ELETRODOMÉSTICOS  6.567299e+09  4.588685e+06        1.686709e+07  4.189741e+13\n",
       "ELETROPORTÁTEIS   4.081881e+09  1.443810e+07        9.392704e+06  7.713975e+13\n",
       "PCS               3.054686e+09  9.498262e+05        7.150589e+06  3.436355e+12"
      ]
     },
     "execution_count": 21,
     "metadata": {},
     "output_type": "execute_result"
    }
   ],
   "source": [
    "ranking_cp = df.groupby(['Departamento']).sum().sort_values(by=['Custo Parcelamento'],ascending=False).head()\n",
    "ranking_cp"
   ]
  },
  {
   "cell_type": "code",
   "execution_count": 22,
   "id": "6d64f1cb",
   "metadata": {},
   "outputs": [
    {
     "data": {
      "image/png": "[encoded data removed]",
      "text/plain": [
       "<Figure size 720x360 with 1 Axes>"
      ]
     },
     "metadata": {
      "needs_background": "light"
     },
     "output_type": "display_data"
    }
   ],
   "source": [
    "ranking_cp['Custo Parcelamento'].plot.bar(color = 'Green', figsize = (10, 5))\n",
    "plt.title('Departamentos por Custo de Parcelamento', fontsize = 15)\n",
    "plt.ylabel('')\n",
    "plt.show()"
   ]
  },
  {
   "cell_type": "markdown",
   "id": "9eddb491",
   "metadata": {},
   "source": [
    "### Agrupando por Departamento e Data"
   ]
  },
  {
   "cell_type": "code",
   "execution_count": 23,
   "id": "52812478",
   "metadata": {},
   "outputs": [
    {
     "data": {
      "text/plain": [
       "\"\\n#Desvio Padrão Departamento \\nlist_aux = df['Departamento'].unique()\\ndp_data = df.groupby(['Departamento','Mês/Ano']).sum()\\nlista = []\\nfor i in list_aux:\\n    lista.append([i,dp_data.loc[i]['Pedidos'].std()])\\n\""
      ]
     },
     "execution_count": 23,
     "metadata": {},
     "output_type": "execute_result"
    }
   ],
   "source": [
    "'''\n",
    "#Desvio Padrão Departamento \n",
    "list_aux = df['Departamento'].unique()\n",
    "dp_data = df.groupby(['Departamento','Mês/Ano']).sum()\n",
    "lista = []\n",
    "for i in list_aux:\n",
    "    lista.append([i,dp_data.loc[i]['Pedidos'].std()])\n",
    "'''"
   ]
  },
  {
   "cell_type": "code",
   "execution_count": 24,
   "id": "1d71ee38",
   "metadata": {},
   "outputs": [],
   "source": [
    "#df_desvio = pd.DataFrame(lista,columns = ['Departamento','STD Pedidos'])"
   ]
  },
  {
   "cell_type": "code",
   "execution_count": 25,
   "id": "48d1b68f",
   "metadata": {},
   "outputs": [],
   "source": [
    "#ranking_std = df_desvio.sort_values('STD Pedidos').head().set_index('Departamento')\n",
    "#ranking_std"
   ]
  },
  {
   "cell_type": "code",
   "execution_count": 26,
   "id": "e1136a7e",
   "metadata": {},
   "outputs": [],
   "source": [
    "#ranking_std['STD Pedidos'].plot.bar( color = 'purple', figsize = (10, 5))\n",
    "#plt.title('Desvio Padrão dos Pedidos por Departamento  ', fontsize = 15)\n",
    "#plt.ylabel('')\n",
    "#plt.show()"
   ]
  },
  {
   "cell_type": "code",
   "execution_count": 27,
   "id": "db690b10",
   "metadata": {},
   "outputs": [],
   "source": [
    "df.to_csv('basevendas.csv', encoding = 'utf-8', index = False)\n",
    "#df.to_csv('desviopadraoDepartamento.csv', encoding = 'utf-8', index = False)"
   ]
  },
  {
   "cell_type": "markdown",
   "id": "1cdbcbb6",
   "metadata": {},
   "source": [
    "# Base visita"
   ]
  },
  {
   "cell_type": "code",
   "execution_count": 28,
   "id": "700fed76",
   "metadata": {},
   "outputs": [],
   "source": [
    "df_visita = pd.read_excel(\"CaseAmericanas.xlsx\", sheet_name = \"Base Visita\")"
   ]
  },
  {
   "cell_type": "code",
   "execution_count": 29,
   "id": "f49f1d93",
   "metadata": {},
   "outputs": [
    {
     "data": {
      "text/html": [
       "<div>\n",
       "<style scoped>\n",
       "    .dataframe tbody tr th:only-of-type {\n",
       "        vertical-align: middle;\n",
       "    }\n",
       "\n",
       "    .dataframe tbody tr th {\n",
       "        vertical-align: top;\n",
       "    }\n",
       "\n",
       "    .dataframe thead th {\n",
       "        text-align: right;\n",
       "    }\n",
       "</style>\n",
       "<table border=\"1\" class=\"dataframe\">\n",
       "  <thead>\n",
       "    <tr style=\"text-align: right;\">\n",
       "      <th></th>\n",
       "      <th>Ano</th>\n",
       "      <th>Mês</th>\n",
       "      <th>Departamento</th>\n",
       "      <th>Canal</th>\n",
       "      <th>Marca</th>\n",
       "      <th>Origem Tráfego</th>\n",
       "      <th>Visita</th>\n",
       "    </tr>\n",
       "  </thead>\n",
       "  <tbody>\n",
       "    <tr>\n",
       "      <th>0</th>\n",
       "      <td>2022</td>\n",
       "      <td>2</td>\n",
       "      <td>PCS</td>\n",
       "      <td>1P</td>\n",
       "      <td>ACOM</td>\n",
       "      <td>TRAFEGO DIRETO</td>\n",
       "      <td>413050.638642</td>\n",
       "    </tr>\n",
       "    <tr>\n",
       "      <th>1</th>\n",
       "      <td>2020</td>\n",
       "      <td>5</td>\n",
       "      <td>PCS</td>\n",
       "      <td>1P</td>\n",
       "      <td>ACOM</td>\n",
       "      <td>COMPARADORES</td>\n",
       "      <td>121072.142917</td>\n",
       "    </tr>\n",
       "    <tr>\n",
       "      <th>2</th>\n",
       "      <td>2021</td>\n",
       "      <td>6</td>\n",
       "      <td>PCS</td>\n",
       "      <td>3P</td>\n",
       "      <td>SOUB</td>\n",
       "      <td>BUSCA PPC</td>\n",
       "      <td>66.738084</td>\n",
       "    </tr>\n",
       "    <tr>\n",
       "      <th>3</th>\n",
       "      <td>2021</td>\n",
       "      <td>11</td>\n",
       "      <td>PCS</td>\n",
       "      <td>3P</td>\n",
       "      <td>SUBA</td>\n",
       "      <td>BUSCA PPC</td>\n",
       "      <td>157287.094374</td>\n",
       "    </tr>\n",
       "    <tr>\n",
       "      <th>4</th>\n",
       "      <td>2020</td>\n",
       "      <td>6</td>\n",
       "      <td>PCS</td>\n",
       "      <td>1P</td>\n",
       "      <td>SHOP</td>\n",
       "      <td>BUSCA PPC</td>\n",
       "      <td>111225.893580</td>\n",
       "    </tr>\n",
       "  </tbody>\n",
       "</table>\n",
       "</div>"
      ],
      "text/plain": [
       "    Ano  Mês Departamento Canal Marca  Origem Tráfego         Visita\n",
       "0  2022    2          PCS    1P  ACOM  TRAFEGO DIRETO  413050.638642\n",
       "1  2020    5          PCS    1P  ACOM    COMPARADORES  121072.142917\n",
       "2  2021    6          PCS    3P  SOUB       BUSCA PPC      66.738084\n",
       "3  2021   11          PCS    3P  SUBA       BUSCA PPC  157287.094374\n",
       "4  2020    6          PCS    1P  SHOP       BUSCA PPC  111225.893580"
      ]
     },
     "execution_count": 29,
     "metadata": {},
     "output_type": "execute_result"
    }
   ],
   "source": [
    "df_visita.head()"
   ]
  },
  {
   "cell_type": "code",
   "execution_count": 30,
   "id": "b53a19b8",
   "metadata": {},
   "outputs": [
    {
     "name": "stdout",
     "output_type": "stream",
     "text": [
      "<class 'pandas.core.frame.DataFrame'>\n",
      "RangeIndex: 17337 entries, 0 to 17336\n",
      "Data columns (total 7 columns):\n",
      " #   Column          Non-Null Count  Dtype  \n",
      "---  ------          --------------  -----  \n",
      " 0   Ano             17337 non-null  int64  \n",
      " 1   Mês             17337 non-null  int64  \n",
      " 2   Departamento    17337 non-null  object \n",
      " 3   Canal           17337 non-null  object \n",
      " 4   Marca           17337 non-null  object \n",
      " 5   Origem Tráfego  17337 non-null  object \n",
      " 6   Visita          17337 non-null  float64\n",
      "dtypes: float64(1), int64(2), object(4)\n",
      "memory usage: 948.2+ KB\n"
     ]
    }
   ],
   "source": [
    "df_visita.info()"
   ]
  },
  {
   "cell_type": "code",
   "execution_count": 31,
   "id": "ff6e2420",
   "metadata": {},
   "outputs": [],
   "source": [
    "df_visita['Ano'] = df_visita['Ano'].astype(str)\n",
    "df_visita['Mês'] = df_visita['Mês'].astype(str)"
   ]
  },
  {
   "cell_type": "code",
   "execution_count": 32,
   "id": "872696d5",
   "metadata": {},
   "outputs": [
    {
     "data": {
      "text/plain": [
       "Ano               0\n",
       "Mês               0\n",
       "Departamento      0\n",
       "Canal             0\n",
       "Marca             0\n",
       "Origem Tráfego    0\n",
       "Visita            0\n",
       "dtype: int64"
      ]
     },
     "execution_count": 32,
     "metadata": {},
     "output_type": "execute_result"
    }
   ],
   "source": [
    "df_visita.isnull().sum()"
   ]
  },
  {
   "cell_type": "code",
   "execution_count": 33,
   "id": "93460d05",
   "metadata": {},
   "outputs": [],
   "source": [
    "df_visita['Mês/Ano'] = df_visita['Mês'].str.cat(df_visita['Ano'],sep=\"/\")\n",
    "df_visita.drop([\"Ano\", \"Mês\"], axis=1, inplace=True)\n",
    "#df_visita['Mês/Ano'] = list(map(lambda x:datetime.strptime(x, \"%m/%Y\").date(),df_visita['Mês/Ano']))"
   ]
  },
  {
   "cell_type": "code",
   "execution_count": 34,
   "id": "a4982ffe",
   "metadata": {},
   "outputs": [
    {
     "data": {
      "text/plain": [
       "array(['PCS', 'PCs', 'MERCADO', 'PC GAMER', 'TELEFONIA', 'AUTOMOTIVO',\n",
       "       'PERFUMARIA', 'ELETRONICOS', 'CLIMATIZAÇÃO', 'ESPORTE & LAZER',\n",
       "       'CONSOLES & GAMES', 'ELETRODOMESTICOS', 'ELETROPORTÃ\\x81TEIS',\n",
       "       'BELEZA & PERFUMARIA', 'INSTRUMENTOS MUSICAIS',\n",
       "       'UTILIDADES DOMESTICAS', 'INFORMÁTICA E ACESSÓRIOS', 'MÓVEIS'],\n",
       "      dtype=object)"
      ]
     },
     "execution_count": 34,
     "metadata": {},
     "output_type": "execute_result"
    }
   ],
   "source": [
    "df_visita['Departamento'].unique()"
   ]
  },
  {
   "cell_type": "code",
   "execution_count": 35,
   "id": "8c3737bd",
   "metadata": {},
   "outputs": [],
   "source": [
    "#Corrigindo Ortografia dos Departamentos\n",
    "aux = df_visita.index[df_visita.Departamento==df_visita['Departamento'].unique()[1]]\n",
    "df_visita.loc[aux,'Departamento'] = 'PCS'"
   ]
  },
  {
   "cell_type": "code",
   "execution_count": 36,
   "id": "75b0f7b5",
   "metadata": {},
   "outputs": [
    {
     "data": {
      "text/plain": [
       "array(['PCS', 'MERCADO', 'PC GAMER', 'TELEFONIA', 'AUTOMOTIVO',\n",
       "       'PERFUMARIA', 'ELETRONICOS', 'CLIMATIZAÇÃO', 'ESPORTE & LAZER',\n",
       "       'CONSOLES & GAMES', 'ELETRODOMESTICOS', 'ELETROPORTÃ\\x81TEIS',\n",
       "       'BELEZA & PERFUMARIA', 'INSTRUMENTOS MUSICAIS',\n",
       "       'UTILIDADES DOMESTICAS', 'INFORMÁTICA E ACESSÓRIOS', 'MÓVEIS'],\n",
       "      dtype=object)"
      ]
     },
     "execution_count": 36,
     "metadata": {},
     "output_type": "execute_result"
    }
   ],
   "source": [
    "df_visita['Departamento'].unique()"
   ]
  },
  {
   "cell_type": "code",
   "execution_count": 37,
   "id": "9fb0a1be",
   "metadata": {},
   "outputs": [],
   "source": [
    "aux = df_visita.index[df_visita.Departamento==df_visita['Departamento'].unique()[6]]\n",
    "df_visita.loc[aux,'Departamento'] = 'ELETRÔNICOS'\n",
    "aux = df_visita.index[df_visita.Departamento==df_visita['Departamento'].unique()[10]]\n",
    "df_visita.loc[aux,'Departamento'] = 'ELETRODOMÉSTICOS'\n",
    "aux = df_visita.index[df_visita.Departamento==df_visita['Departamento'].unique()[11]]\n",
    "df_visita.loc[aux,'Departamento'] = 'ELETROPORTÁTEIS'\n",
    "aux = df_visita.index[df_visita.Departamento==df_visita['Departamento'].unique()[14]]\n",
    "df_visita.loc[aux,'Departamento'] = 'UTILIDADES DOMÉSTICAS'"
   ]
  },
  {
   "cell_type": "code",
   "execution_count": 38,
   "id": "aa504731",
   "metadata": {},
   "outputs": [
    {
     "data": {
      "text/plain": [
       "array(['PCS', 'MERCADO', 'PC GAMER', 'TELEFONIA', 'AUTOMOTIVO',\n",
       "       'PERFUMARIA', 'ELETRÔNICOS', 'CLIMATIZAÇÃO', 'ESPORTE & LAZER',\n",
       "       'CONSOLES & GAMES', 'ELETRODOMÉSTICOS', 'ELETROPORTÁTEIS',\n",
       "       'BELEZA & PERFUMARIA', 'INSTRUMENTOS MUSICAIS',\n",
       "       'UTILIDADES DOMÉSTICAS', 'INFORMÁTICA E ACESSÓRIOS', 'MÓVEIS'],\n",
       "      dtype=object)"
      ]
     },
     "execution_count": 38,
     "metadata": {},
     "output_type": "execute_result"
    }
   ],
   "source": [
    "df_visita['Departamento'].unique()"
   ]
  },
  {
   "cell_type": "code",
   "execution_count": 39,
   "id": "de04c424",
   "metadata": {},
   "outputs": [
    {
     "data": {
      "text/html": [
       "<div>\n",
       "<style scoped>\n",
       "    .dataframe tbody tr th:only-of-type {\n",
       "        vertical-align: middle;\n",
       "    }\n",
       "\n",
       "    .dataframe tbody tr th {\n",
       "        vertical-align: top;\n",
       "    }\n",
       "\n",
       "    .dataframe thead th {\n",
       "        text-align: right;\n",
       "    }\n",
       "</style>\n",
       "<table border=\"1\" class=\"dataframe\">\n",
       "  <thead>\n",
       "    <tr style=\"text-align: right;\">\n",
       "      <th></th>\n",
       "      <th>Visita</th>\n",
       "    </tr>\n",
       "    <tr>\n",
       "      <th>Departamento</th>\n",
       "      <th></th>\n",
       "    </tr>\n",
       "  </thead>\n",
       "  <tbody>\n",
       "    <tr>\n",
       "      <th>ELETROPORTÁTEIS</th>\n",
       "      <td>4.088487e+08</td>\n",
       "    </tr>\n",
       "    <tr>\n",
       "      <th>UTILIDADES DOMÉSTICAS</th>\n",
       "      <td>3.110695e+08</td>\n",
       "    </tr>\n",
       "    <tr>\n",
       "      <th>TELEFONIA</th>\n",
       "      <td>2.761262e+08</td>\n",
       "    </tr>\n",
       "    <tr>\n",
       "      <th>ELETRODOMÉSTICOS</th>\n",
       "      <td>2.428339e+08</td>\n",
       "    </tr>\n",
       "    <tr>\n",
       "      <th>MERCADO</th>\n",
       "      <td>2.383047e+08</td>\n",
       "    </tr>\n",
       "  </tbody>\n",
       "</table>\n",
       "</div>"
      ],
      "text/plain": [
       "                             Visita\n",
       "Departamento                       \n",
       "ELETROPORTÁTEIS        4.088487e+08\n",
       "UTILIDADES DOMÉSTICAS  3.110695e+08\n",
       "TELEFONIA              2.761262e+08\n",
       "ELETRODOMÉSTICOS       2.428339e+08\n",
       "MERCADO                2.383047e+08"
      ]
     },
     "execution_count": 39,
     "metadata": {},
     "output_type": "execute_result"
    }
   ],
   "source": [
    "ranking_tf = df_visita.groupby(['Departamento']).sum().sort_values(by=['Visita'],ascending=False).head()\n",
    "ranking_tf"
   ]
  },
  {
   "cell_type": "code",
   "execution_count": 40,
   "id": "f52b78f9",
   "metadata": {},
   "outputs": [
    {
     "data": {
      "image/png": "[encoded data removed]",
      "text/plain": [
       "<Figure size 720x360 with 1 Axes>"
      ]
     },
     "metadata": {
      "needs_background": "light"
     },
     "output_type": "display_data"
    }
   ],
   "source": [
    "ranking_tf['Visita'].plot.bar( color = 'aqua', figsize = (10, 5))\n",
    "plt.title('Departamento Por Volume de Tráfego', fontsize = 15)\n",
    "plt.ylabel('')\n",
    "plt.show()"
   ]
  },
  {
   "cell_type": "code",
   "execution_count": 41,
   "id": "6eab5222",
   "metadata": {},
   "outputs": [],
   "source": [
    "df_visita.to_csv('basevisitas.csv', encoding = 'utf-8', index = False)"
   ]
  },
  {
   "cell_type": "markdown",
   "id": "49fc0777",
   "metadata": {},
   "source": [
    "### Base Ad Cost"
   ]
  },
  {
   "cell_type": "code",
   "execution_count": 42,
   "id": "ab949a21",
   "metadata": {},
   "outputs": [],
   "source": [
    "df_ad = pd.read_excel(\"CaseAmericanas.xlsx\", sheet_name = \"Base Ad Cost\",usecols='A:G')"
   ]
  },
  {
   "cell_type": "code",
   "execution_count": 43,
   "id": "b5e928d1",
   "metadata": {},
   "outputs": [
    {
     "data": {
      "text/html": [
       "<div>\n",
       "<style scoped>\n",
       "    .dataframe tbody tr th:only-of-type {\n",
       "        vertical-align: middle;\n",
       "    }\n",
       "\n",
       "    .dataframe tbody tr th {\n",
       "        vertical-align: top;\n",
       "    }\n",
       "\n",
       "    .dataframe thead th {\n",
       "        text-align: right;\n",
       "    }\n",
       "</style>\n",
       "<table border=\"1\" class=\"dataframe\">\n",
       "  <thead>\n",
       "    <tr style=\"text-align: right;\">\n",
       "      <th></th>\n",
       "      <th>Ano</th>\n",
       "      <th>Mês</th>\n",
       "      <th>Canal</th>\n",
       "      <th>Departamento</th>\n",
       "      <th>AFILIADOS</th>\n",
       "      <th>BUSCA PPC</th>\n",
       "      <th>COMPARADORES</th>\n",
       "    </tr>\n",
       "  </thead>\n",
       "  <tbody>\n",
       "    <tr>\n",
       "      <th>0</th>\n",
       "      <td>2020</td>\n",
       "      <td>1</td>\n",
       "      <td>1P</td>\n",
       "      <td>TELEFONIA</td>\n",
       "      <td>-0.004998</td>\n",
       "      <td>-0.010845</td>\n",
       "      <td>-0.002934</td>\n",
       "    </tr>\n",
       "    <tr>\n",
       "      <th>1</th>\n",
       "      <td>2020</td>\n",
       "      <td>1</td>\n",
       "      <td>1P</td>\n",
       "      <td>ELETRODOMESTICOS</td>\n",
       "      <td>-0.004225</td>\n",
       "      <td>-0.014733</td>\n",
       "      <td>-0.004474</td>\n",
       "    </tr>\n",
       "    <tr>\n",
       "      <th>2</th>\n",
       "      <td>2020</td>\n",
       "      <td>1</td>\n",
       "      <td>1P</td>\n",
       "      <td>ELETRONICOS</td>\n",
       "      <td>-0.006406</td>\n",
       "      <td>-0.016894</td>\n",
       "      <td>-0.005469</td>\n",
       "    </tr>\n",
       "    <tr>\n",
       "      <th>3</th>\n",
       "      <td>2020</td>\n",
       "      <td>1</td>\n",
       "      <td>1P</td>\n",
       "      <td>PCS</td>\n",
       "      <td>-0.003451</td>\n",
       "      <td>-0.010866</td>\n",
       "      <td>-0.005582</td>\n",
       "    </tr>\n",
       "    <tr>\n",
       "      <th>4</th>\n",
       "      <td>2020</td>\n",
       "      <td>1</td>\n",
       "      <td>1P</td>\n",
       "      <td>CLIMATIZAÇÃO</td>\n",
       "      <td>-0.002771</td>\n",
       "      <td>-0.006624</td>\n",
       "      <td>-0.002892</td>\n",
       "    </tr>\n",
       "  </tbody>\n",
       "</table>\n",
       "</div>"
      ],
      "text/plain": [
       "    Ano  Mês Canal      Departamento  AFILIADOS  BUSCA PPC  COMPARADORES\n",
       "0  2020    1    1P         TELEFONIA  -0.004998  -0.010845     -0.002934\n",
       "1  2020    1    1P  ELETRODOMESTICOS  -0.004225  -0.014733     -0.004474\n",
       "2  2020    1    1P       ELETRONICOS  -0.006406  -0.016894     -0.005469\n",
       "3  2020    1    1P               PCS  -0.003451  -0.010866     -0.005582\n",
       "4  2020    1    1P      CLIMATIZAÇÃO  -0.002771  -0.006624     -0.002892"
      ]
     },
     "execution_count": 43,
     "metadata": {},
     "output_type": "execute_result"
    }
   ],
   "source": [
    "df_ad.head()"
   ]
  },
  {
   "cell_type": "code",
   "execution_count": 44,
   "id": "8fc3210c",
   "metadata": {},
   "outputs": [
    {
     "name": "stdout",
     "output_type": "stream",
     "text": [
      "<class 'pandas.core.frame.DataFrame'>\n",
      "RangeIndex: 868 entries, 0 to 867\n",
      "Data columns (total 7 columns):\n",
      " #   Column        Non-Null Count  Dtype  \n",
      "---  ------        --------------  -----  \n",
      " 0   Ano           868 non-null    int64  \n",
      " 1   Mês           868 non-null    int64  \n",
      " 2   Canal         868 non-null    object \n",
      " 3   Departamento  868 non-null    object \n",
      " 4   AFILIADOS     868 non-null    float64\n",
      " 5   BUSCA PPC     868 non-null    float64\n",
      " 6   COMPARADORES  868 non-null    float64\n",
      "dtypes: float64(3), int64(2), object(2)\n",
      "memory usage: 47.6+ KB\n"
     ]
    }
   ],
   "source": [
    "df_ad.info()"
   ]
  },
  {
   "cell_type": "code",
   "execution_count": 45,
   "id": "663a2a58",
   "metadata": {},
   "outputs": [],
   "source": [
    "df_ad['Ano'] = df_ad['Ano'].astype(str)\n",
    "df_ad['Mês'] = df_ad['Mês'].astype(str)\n",
    "df_ad['Mês/Ano'] = df_ad['Mês'].str.cat(df_ad['Ano'],sep=\"/\")\n",
    "#df_ad['Mês/Ano'] = list(map(lambda x:datetime.strptime(x, \"%m/%Y\").date(),df_ad['Mês/Ano']))\n",
    "df_ad.drop([\"Ano\", \"Mês\"], axis=1, inplace=True)"
   ]
  },
  {
   "cell_type": "code",
   "execution_count": 46,
   "id": "8e9fbbeb",
   "metadata": {},
   "outputs": [
    {
     "data": {
      "text/plain": [
       "array(['TELEFONIA', 'ELETRODOMESTICOS', 'ELETRONICOS', 'PCS',\n",
       "       'CLIMATIZAÇÃO', 'ELETROPORTÃ\\x81TEIS', 'INFORMÁTICA E ACESSÓRIOS',\n",
       "       'UTILIDADES DOMESTICAS', 'AUTOMOTIVO', 'CONSOLES & GAMES',\n",
       "       'ESPORTE & LAZER', 'PC GAMER', 'BELEZA & PERFUMARIA', 'MÓVEIS',\n",
       "       'INSTRUMENTOS MUSICAIS', 'MERCADO'], dtype=object)"
      ]
     },
     "execution_count": 46,
     "metadata": {},
     "output_type": "execute_result"
    }
   ],
   "source": [
    "df_ad['Departamento'].unique()"
   ]
  },
  {
   "cell_type": "code",
   "execution_count": 47,
   "id": "11bf076c",
   "metadata": {},
   "outputs": [],
   "source": [
    "aux = df_ad.index[df_ad.Departamento==df_ad['Departamento'].unique()[1]]\n",
    "df_ad.loc[aux,'Departamento'] = 'ELETRODOMÉSTICOS'\n",
    "\n",
    "aux = df_ad.index[df_ad.Departamento==df_ad['Departamento'].unique()[2]]\n",
    "df_ad.loc[aux,'Departamento'] = 'ELETRÔNICOS'\n",
    "\n",
    "aux = df_ad.index[df_ad.Departamento==df_ad['Departamento'].unique()[5]]\n",
    "df_ad.loc[aux,'Departamento'] = 'ELETROPORTÁTEIS'\n",
    "\n",
    "aux = df_ad.index[df_ad.Departamento==df_ad['Departamento'].unique()[7]]\n",
    "df_ad.loc[aux,'Departamento'] = 'UTILIDADES DOMÉSTICAS'"
   ]
  },
  {
   "cell_type": "code",
   "execution_count": 48,
   "id": "99d1b604",
   "metadata": {},
   "outputs": [
    {
     "data": {
      "text/plain": [
       "array(['TELEFONIA', 'ELETRODOMÉSTICOS', 'ELETRÔNICOS', 'PCS',\n",
       "       'CLIMATIZAÇÃO', 'ELETROPORTÁTEIS', 'INFORMÁTICA E ACESSÓRIOS',\n",
       "       'UTILIDADES DOMÉSTICAS', 'AUTOMOTIVO', 'CONSOLES & GAMES',\n",
       "       'ESPORTE & LAZER', 'PC GAMER', 'BELEZA & PERFUMARIA', 'MÓVEIS',\n",
       "       'INSTRUMENTOS MUSICAIS', 'MERCADO'], dtype=object)"
      ]
     },
     "execution_count": 48,
     "metadata": {},
     "output_type": "execute_result"
    }
   ],
   "source": [
    "df_ad['Departamento'].unique()"
   ]
  },
  {
   "cell_type": "code",
   "execution_count": 49,
   "id": "51583cf7",
   "metadata": {},
   "outputs": [],
   "source": [
    "df_ad[\"CAT\"] = df_ad.iloc[:,2:5].sum(axis = 1)"
   ]
  },
  {
   "cell_type": "code",
   "execution_count": 50,
   "id": "6860816d",
   "metadata": {},
   "outputs": [
    {
     "data": {
      "text/html": [
       "<div>\n",
       "<style scoped>\n",
       "    .dataframe tbody tr th:only-of-type {\n",
       "        vertical-align: middle;\n",
       "    }\n",
       "\n",
       "    .dataframe tbody tr th {\n",
       "        vertical-align: top;\n",
       "    }\n",
       "\n",
       "    .dataframe thead th {\n",
       "        text-align: right;\n",
       "    }\n",
       "</style>\n",
       "<table border=\"1\" class=\"dataframe\">\n",
       "  <thead>\n",
       "    <tr style=\"text-align: right;\">\n",
       "      <th></th>\n",
       "      <th>Canal</th>\n",
       "      <th>Departamento</th>\n",
       "      <th>AFILIADOS</th>\n",
       "      <th>BUSCA PPC</th>\n",
       "      <th>COMPARADORES</th>\n",
       "      <th>Mês/Ano</th>\n",
       "      <th>CAT</th>\n",
       "    </tr>\n",
       "  </thead>\n",
       "  <tbody>\n",
       "    <tr>\n",
       "      <th>0</th>\n",
       "      <td>1P</td>\n",
       "      <td>TELEFONIA</td>\n",
       "      <td>-0.004998</td>\n",
       "      <td>-0.010845</td>\n",
       "      <td>-0.002934</td>\n",
       "      <td>1/2020</td>\n",
       "      <td>-0.018777</td>\n",
       "    </tr>\n",
       "    <tr>\n",
       "      <th>1</th>\n",
       "      <td>1P</td>\n",
       "      <td>ELETRODOMÉSTICOS</td>\n",
       "      <td>-0.004225</td>\n",
       "      <td>-0.014733</td>\n",
       "      <td>-0.004474</td>\n",
       "      <td>1/2020</td>\n",
       "      <td>-0.023431</td>\n",
       "    </tr>\n",
       "    <tr>\n",
       "      <th>2</th>\n",
       "      <td>1P</td>\n",
       "      <td>ELETRÔNICOS</td>\n",
       "      <td>-0.006406</td>\n",
       "      <td>-0.016894</td>\n",
       "      <td>-0.005469</td>\n",
       "      <td>1/2020</td>\n",
       "      <td>-0.028769</td>\n",
       "    </tr>\n",
       "    <tr>\n",
       "      <th>3</th>\n",
       "      <td>1P</td>\n",
       "      <td>PCS</td>\n",
       "      <td>-0.003451</td>\n",
       "      <td>-0.010866</td>\n",
       "      <td>-0.005582</td>\n",
       "      <td>1/2020</td>\n",
       "      <td>-0.019900</td>\n",
       "    </tr>\n",
       "    <tr>\n",
       "      <th>4</th>\n",
       "      <td>1P</td>\n",
       "      <td>CLIMATIZAÇÃO</td>\n",
       "      <td>-0.002771</td>\n",
       "      <td>-0.006624</td>\n",
       "      <td>-0.002892</td>\n",
       "      <td>1/2020</td>\n",
       "      <td>-0.012287</td>\n",
       "    </tr>\n",
       "  </tbody>\n",
       "</table>\n",
       "</div>"
      ],
      "text/plain": [
       "  Canal      Departamento  AFILIADOS  BUSCA PPC  COMPARADORES Mês/Ano  \\\n",
       "0    1P         TELEFONIA  -0.004998  -0.010845     -0.002934  1/2020   \n",
       "1    1P  ELETRODOMÉSTICOS  -0.004225  -0.014733     -0.004474  1/2020   \n",
       "2    1P       ELETRÔNICOS  -0.006406  -0.016894     -0.005469  1/2020   \n",
       "3    1P               PCS  -0.003451  -0.010866     -0.005582  1/2020   \n",
       "4    1P      CLIMATIZAÇÃO  -0.002771  -0.006624     -0.002892  1/2020   \n",
       "\n",
       "        CAT  \n",
       "0 -0.018777  \n",
       "1 -0.023431  \n",
       "2 -0.028769  \n",
       "3 -0.019900  \n",
       "4 -0.012287  "
      ]
     },
     "execution_count": 50,
     "metadata": {},
     "output_type": "execute_result"
    }
   ],
   "source": [
    "df_ad.head()"
   ]
  },
  {
   "cell_type": "code",
   "execution_count": 51,
   "id": "5a07cc36",
   "metadata": {},
   "outputs": [
    {
     "data": {
      "text/html": [
       "<div>\n",
       "<style scoped>\n",
       "    .dataframe tbody tr th:only-of-type {\n",
       "        vertical-align: middle;\n",
       "    }\n",
       "\n",
       "    .dataframe tbody tr th {\n",
       "        vertical-align: top;\n",
       "    }\n",
       "\n",
       "    .dataframe thead th {\n",
       "        text-align: right;\n",
       "    }\n",
       "</style>\n",
       "<table border=\"1\" class=\"dataframe\">\n",
       "  <thead>\n",
       "    <tr style=\"text-align: right;\">\n",
       "      <th></th>\n",
       "      <th>AFILIADOS</th>\n",
       "      <th>BUSCA PPC</th>\n",
       "      <th>COMPARADORES</th>\n",
       "      <th>CAT</th>\n",
       "    </tr>\n",
       "    <tr>\n",
       "      <th>Departamento</th>\n",
       "      <th></th>\n",
       "      <th></th>\n",
       "      <th></th>\n",
       "      <th></th>\n",
       "    </tr>\n",
       "  </thead>\n",
       "  <tbody>\n",
       "    <tr>\n",
       "      <th>UTILIDADES DOMÉSTICAS</th>\n",
       "      <td>-0.327877</td>\n",
       "      <td>-1.814818</td>\n",
       "      <td>-0.093306</td>\n",
       "      <td>-2.236000</td>\n",
       "    </tr>\n",
       "    <tr>\n",
       "      <th>CONSOLES &amp; GAMES</th>\n",
       "      <td>-0.997999</td>\n",
       "      <td>-1.298379</td>\n",
       "      <td>-0.165031</td>\n",
       "      <td>-2.461409</td>\n",
       "    </tr>\n",
       "    <tr>\n",
       "      <th>INFORMÁTICA E ACESSÓRIOS</th>\n",
       "      <td>-0.405142</td>\n",
       "      <td>-1.986944</td>\n",
       "      <td>-0.237897</td>\n",
       "      <td>-2.629983</td>\n",
       "    </tr>\n",
       "    <tr>\n",
       "      <th>AUTOMOTIVO</th>\n",
       "      <td>-0.219760</td>\n",
       "      <td>-2.341187</td>\n",
       "      <td>-0.121456</td>\n",
       "      <td>-2.682403</td>\n",
       "    </tr>\n",
       "    <tr>\n",
       "      <th>PC GAMER</th>\n",
       "      <td>-0.559008</td>\n",
       "      <td>-1.944633</td>\n",
       "      <td>-0.214705</td>\n",
       "      <td>-2.718346</td>\n",
       "    </tr>\n",
       "  </tbody>\n",
       "</table>\n",
       "</div>"
      ],
      "text/plain": [
       "                          AFILIADOS  BUSCA PPC  COMPARADORES       CAT\n",
       "Departamento                                                          \n",
       "UTILIDADES DOMÉSTICAS     -0.327877  -1.814818     -0.093306 -2.236000\n",
       "CONSOLES & GAMES          -0.997999  -1.298379     -0.165031 -2.461409\n",
       "INFORMÁTICA E ACESSÓRIOS  -0.405142  -1.986944     -0.237897 -2.629983\n",
       "AUTOMOTIVO                -0.219760  -2.341187     -0.121456 -2.682403\n",
       "PC GAMER                  -0.559008  -1.944633     -0.214705 -2.718346"
      ]
     },
     "execution_count": 51,
     "metadata": {},
     "output_type": "execute_result"
    }
   ],
   "source": [
    "ranking_ad = df_ad.groupby(['Departamento']).sum().sort_values(by=['CAT'],ascending = False).tail()\n",
    "ranking_ad"
   ]
  },
  {
   "cell_type": "code",
   "execution_count": 52,
   "id": "dcc23a71",
   "metadata": {},
   "outputs": [
    {
     "data": {
      "image/png": "[encoded data removed]",
      "text/plain": [
       "<Figure size 720x360 with 1 Axes>"
      ]
     },
     "metadata": {
      "needs_background": "light"
     },
     "output_type": "display_data"
    }
   ],
   "source": [
    "ranking_ad['CAT'].plot.bar( color = 'aqua', figsize = (10, 5))\n",
    "plt.title('Departamento Por Custo de Aquisição de Tráfego', fontsize = 15)\n",
    "plt.ylabel('')\n",
    "plt.show()"
   ]
  },
  {
   "cell_type": "code",
   "execution_count": 53,
   "id": "ddd97578",
   "metadata": {},
   "outputs": [],
   "source": [
    "df_ad.to_csv('baseadCost.csv', encoding = 'utf-8', index = False)"
   ]
  },
  {
   "cell_type": "code",
   "execution_count": null,
   "id": "9f21d637",
   "metadata": {},
   "outputs": [],
   "source": []
  },
  {
   "cell_type": "code",
   "execution_count": 59,
   "id": "fa8ff88f",
   "metadata": {},
   "outputs": [],
   "source": [
    "df_mercado = df[df.Departamento==\"MERCADO\"].copy()\n",
    "df_mercado.drop(['Departamento'], axis=1, inplace=True)"
   ]
  },
  {
   "cell_type": "code",
   "execution_count": 60,
   "id": "b8dd42d9",
   "metadata": {},
   "outputs": [
    {
     "data": {
      "text/html": [
       "<div>\n",
       "<style scoped>\n",
       "    .dataframe tbody tr th:only-of-type {\n",
       "        vertical-align: middle;\n",
       "    }\n",
       "\n",
       "    .dataframe tbody tr th {\n",
       "        vertical-align: top;\n",
       "    }\n",
       "\n",
       "    .dataframe thead th {\n",
       "        text-align: right;\n",
       "    }\n",
       "</style>\n",
       "<table border=\"1\" class=\"dataframe\">\n",
       "  <thead>\n",
       "    <tr style=\"text-align: right;\">\n",
       "      <th></th>\n",
       "      <th>Canal</th>\n",
       "      <th>Marca</th>\n",
       "      <th>Origem Tráfego</th>\n",
       "      <th>MDP</th>\n",
       "      <th>Parcelamento</th>\n",
       "      <th>Receita</th>\n",
       "      <th>Pedidos</th>\n",
       "      <th>Mês/Ano</th>\n",
       "      <th>Custo Parcelamento</th>\n",
       "      <th>Volume Venda</th>\n",
       "    </tr>\n",
       "  </thead>\n",
       "  <tbody>\n",
       "    <tr>\n",
       "      <th>64754</th>\n",
       "      <td>3P</td>\n",
       "      <td>ACOM</td>\n",
       "      <td>BUSCA PPC</td>\n",
       "      <td>AME</td>\n",
       "      <td>A VISTA</td>\n",
       "      <td>5.697485e+05</td>\n",
       "      <td>3983.256299</td>\n",
       "      <td>9/2020</td>\n",
       "      <td>0.000000</td>\n",
       "      <td>2.269454e+09</td>\n",
       "    </tr>\n",
       "    <tr>\n",
       "      <th>64755</th>\n",
       "      <td>1P</td>\n",
       "      <td>ACOM</td>\n",
       "      <td>TRAFEGO DIRETO</td>\n",
       "      <td>PIX</td>\n",
       "      <td>A VISTA</td>\n",
       "      <td>1.448811e+06</td>\n",
       "      <td>39880.373945</td>\n",
       "      <td>10/2021</td>\n",
       "      <td>0.000000</td>\n",
       "      <td>5.777913e+10</td>\n",
       "    </tr>\n",
       "    <tr>\n",
       "      <th>64756</th>\n",
       "      <td>3P</td>\n",
       "      <td>SUBA</td>\n",
       "      <td>TRAFEGO DIRETO</td>\n",
       "      <td>AME</td>\n",
       "      <td>A VISTA</td>\n",
       "      <td>8.944835e+04</td>\n",
       "      <td>669.073494</td>\n",
       "      <td>12/2020</td>\n",
       "      <td>0.000000</td>\n",
       "      <td>5.984752e+07</td>\n",
       "    </tr>\n",
       "    <tr>\n",
       "      <th>64757</th>\n",
       "      <td>3P</td>\n",
       "      <td>ACOM</td>\n",
       "      <td>TRAFEGO DIRETO</td>\n",
       "      <td>BOLETO</td>\n",
       "      <td>A VISTA</td>\n",
       "      <td>1.235274e+05</td>\n",
       "      <td>917.269307</td>\n",
       "      <td>4/2022</td>\n",
       "      <td>0.000000</td>\n",
       "      <td>1.133079e+08</td>\n",
       "    </tr>\n",
       "    <tr>\n",
       "      <th>64758</th>\n",
       "      <td>1P</td>\n",
       "      <td>ACOM</td>\n",
       "      <td>BUSCA ORGANICA</td>\n",
       "      <td>CARTAO</td>\n",
       "      <td>A VISTA</td>\n",
       "      <td>6.339383e+04</td>\n",
       "      <td>1564.373135</td>\n",
       "      <td>2/2020</td>\n",
       "      <td>0.000000</td>\n",
       "      <td>9.917161e+07</td>\n",
       "    </tr>\n",
       "    <tr>\n",
       "      <th>...</th>\n",
       "      <td>...</td>\n",
       "      <td>...</td>\n",
       "      <td>...</td>\n",
       "      <td>...</td>\n",
       "      <td>...</td>\n",
       "      <td>...</td>\n",
       "      <td>...</td>\n",
       "      <td>...</td>\n",
       "      <td>...</td>\n",
       "      <td>...</td>\n",
       "    </tr>\n",
       "    <tr>\n",
       "      <th>68756</th>\n",
       "      <td>1P</td>\n",
       "      <td>SUBA</td>\n",
       "      <td>BUSCA PPC</td>\n",
       "      <td>CARTAO</td>\n",
       "      <td>A VISTA</td>\n",
       "      <td>1.042309e+03</td>\n",
       "      <td>15.609970</td>\n",
       "      <td>12/2021</td>\n",
       "      <td>0.000000</td>\n",
       "      <td>1.627041e+04</td>\n",
       "    </tr>\n",
       "    <tr>\n",
       "      <th>68757</th>\n",
       "      <td>3P</td>\n",
       "      <td>SOUB</td>\n",
       "      <td>TRAFEGO DIRETO</td>\n",
       "      <td>CARTAO</td>\n",
       "      <td>A PRAZO</td>\n",
       "      <td>8.661580e+02</td>\n",
       "      <td>4.409949</td>\n",
       "      <td>4/2022</td>\n",
       "      <td>4.330790</td>\n",
       "      <td>3.819712e+03</td>\n",
       "    </tr>\n",
       "    <tr>\n",
       "      <th>68758</th>\n",
       "      <td>1P</td>\n",
       "      <td>SUBA</td>\n",
       "      <td>BUSCA PPC</td>\n",
       "      <td>CARTAO</td>\n",
       "      <td>A PRAZO</td>\n",
       "      <td>1.664725e+03</td>\n",
       "      <td>14.048973</td>\n",
       "      <td>12/2021</td>\n",
       "      <td>8.323626</td>\n",
       "      <td>2.338768e+04</td>\n",
       "    </tr>\n",
       "    <tr>\n",
       "      <th>68759</th>\n",
       "      <td>3P</td>\n",
       "      <td>SHOP</td>\n",
       "      <td>AFILIADOS</td>\n",
       "      <td>BOLETO</td>\n",
       "      <td>A VISTA</td>\n",
       "      <td>6.086310e+03</td>\n",
       "      <td>61.615981</td>\n",
       "      <td>1/2021</td>\n",
       "      <td>0.000000</td>\n",
       "      <td>3.750140e+05</td>\n",
       "    </tr>\n",
       "    <tr>\n",
       "      <th>68760</th>\n",
       "      <td>3P</td>\n",
       "      <td>B2B</td>\n",
       "      <td>TRAFEGO DIRETO</td>\n",
       "      <td>AME</td>\n",
       "      <td>A VISTA</td>\n",
       "      <td>7.580819e+01</td>\n",
       "      <td>1.607809</td>\n",
       "      <td>11/2020</td>\n",
       "      <td>0.000000</td>\n",
       "      <td>1.218851e+02</td>\n",
       "    </tr>\n",
       "  </tbody>\n",
       "</table>\n",
       "<p>4007 rows × 10 columns</p>\n",
       "</div>"
      ],
      "text/plain": [
       "      Canal Marca  Origem Tráfego     MDP Parcelamento       Receita  \\\n",
       "64754    3P  ACOM       BUSCA PPC     AME      A VISTA  5.697485e+05   \n",
       "64755    1P  ACOM  TRAFEGO DIRETO     PIX      A VISTA  1.448811e+06   \n",
       "64756    3P  SUBA  TRAFEGO DIRETO     AME      A VISTA  8.944835e+04   \n",
       "64757    3P  ACOM  TRAFEGO DIRETO  BOLETO      A VISTA  1.235274e+05   \n",
       "64758    1P  ACOM  BUSCA ORGANICA  CARTAO      A VISTA  6.339383e+04   \n",
       "...     ...   ...             ...     ...          ...           ...   \n",
       "68756    1P  SUBA       BUSCA PPC  CARTAO      A VISTA  1.042309e+03   \n",
       "68757    3P  SOUB  TRAFEGO DIRETO  CARTAO      A PRAZO  8.661580e+02   \n",
       "68758    1P  SUBA       BUSCA PPC  CARTAO      A PRAZO  1.664725e+03   \n",
       "68759    3P  SHOP       AFILIADOS  BOLETO      A VISTA  6.086310e+03   \n",
       "68760    3P   B2B  TRAFEGO DIRETO     AME      A VISTA  7.580819e+01   \n",
       "\n",
       "            Pedidos  Mês/Ano  Custo Parcelamento  Volume Venda  \n",
       "64754   3983.256299   9/2020            0.000000  2.269454e+09  \n",
       "64755  39880.373945  10/2021            0.000000  5.777913e+10  \n",
       "64756    669.073494  12/2020            0.000000  5.984752e+07  \n",
       "64757    917.269307   4/2022            0.000000  1.133079e+08  \n",
       "64758   1564.373135   2/2020            0.000000  9.917161e+07  \n",
       "...             ...      ...                 ...           ...  \n",
       "68756     15.609970  12/2021            0.000000  1.627041e+04  \n",
       "68757      4.409949   4/2022            4.330790  3.819712e+03  \n",
       "68758     14.048973  12/2021            8.323626  2.338768e+04  \n",
       "68759     61.615981   1/2021            0.000000  3.750140e+05  \n",
       "68760      1.607809  11/2020            0.000000  1.218851e+02  \n",
       "\n",
       "[4007 rows x 10 columns]"
      ]
     },
     "execution_count": 60,
     "metadata": {},
     "output_type": "execute_result"
    }
   ],
   "source": [
    "df_mercado"
   ]
  },
  {
   "cell_type": "code",
   "execution_count": 61,
   "id": "961edfce",
   "metadata": {},
   "outputs": [],
   "source": [
    "df_mercado.to_csv('vendasMercado.csv', encoding = 'utf-8', index = False)"
   ]
  },
  {
   "cell_type": "code",
   "execution_count": null,
   "id": "30c9b89e",
   "metadata": {},
   "outputs": [],
   "source": []
  }
 ],
 "metadata": {
  "kernelspec": {
   "display_name": "Python 3 (ipykernel)",
   "language": "python",
   "name": "python3"
  },
  "language_info": {
   "codemirror_mode": {
    "name": "ipython",
    "version": 3
   },
   "file_extension": ".py",
   "mimetype": "text/x-python",
   "name": "python",
   "nbconvert_exporter": "python",
   "pygments_lexer": "ipython3",
   "version": "3.9.7"
  }
 },
 "nbformat": 4,
 "nbformat_minor": 5
}
